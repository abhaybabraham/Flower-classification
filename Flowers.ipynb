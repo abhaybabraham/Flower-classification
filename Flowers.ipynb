{
  "nbformat": 4,
  "nbformat_minor": 0,
  "metadata": {
    "colab": {
      "name": "Flowers.ipynb",
      "provenance": [],
      "collapsed_sections": []
    },
    "kernelspec": {
      "name": "python3",
      "display_name": "Python 3"
    },
    "language_info": {
      "name": "python"
    }
  },
  "cells": [
    {
      "cell_type": "code",
      "metadata": {
        "id": "nkAWoBiPlONw",
        "colab": {
          "base_uri": "https://localhost:8080/"
        },
        "outputId": "d7493fcc-c21b-4fbd-8f43-0c1359bde0c6"
      },
      "source": [
        "import numpy as np\n",
        "import cv2\n",
        "import PIL.Image as Image\n",
        "import os\n",
        "import PIL\n",
        "import tensorflow as tf\n",
        "import matplotlib.pylab as plt\n",
        "from tensorflow import keras\n",
        "from tensorflow.keras import layers\n",
        "from tensorflow.keras.models import Sequential\n",
        "from keras.utils import to_categorical"
      ],
      "execution_count": 1,
      "outputs": [
        {
          "output_type": "stream",
          "text": [
            "Using TensorFlow backend.\n"
          ],
          "name": "stderr"
        }
      ]
    },
    {
      "cell_type": "code",
      "metadata": {
        "id": "YA8h5Ns50q_A"
      },
      "source": [
        "data_dir = r'C:\\Users\\abhay\\OneDrive\\Desktop\\dataset\\Flowers'"
      ],
      "execution_count": 2,
      "outputs": []
    },
    {
      "cell_type": "code",
      "metadata": {
        "colab": {
          "base_uri": "https://localhost:8080/"
        },
        "id": "kKMkunoJsM0M",
        "outputId": "dbcef22e-5122-45f6-f237-a33fc9af6ccf"
      },
      "source": [
        "import pathlib\n",
        "data_dir = pathlib.Path(data_dir)\n",
        "data_dir"
      ],
      "execution_count": 3,
      "outputs": [
        {
          "output_type": "execute_result",
          "data": {
            "text/plain": [
              "WindowsPath('C:/Users/abhay/OneDrive/Desktop/dataset/Flowers')"
            ]
          },
          "metadata": {
            "tags": []
          },
          "execution_count": 3
        }
      ]
    },
    {
      "cell_type": "code",
      "metadata": {
        "id": "FN9fFa2HsNdR"
      },
      "source": [
        "flowers_images_dict = {\n",
        "    'rose': list(data_dir.glob('rose/*')),\n",
        "    'daisy': list(data_dir.glob('daisy/*')),\n",
        "    'dandelion': list(data_dir.glob('dandelion/*')),\n",
        "    'sunflower': list(data_dir.glob('sunflower/*')),\n",
        "    'tulip': list(data_dir.glob('tulip/*')),\n",
        "}\n",
        "\n",
        "flowers_labels_dict = {\n",
        "    'rose': 0,\n",
        "    'daisy': 1,\n",
        "    'dandelion': 2,\n",
        "    'sunflower': 3,\n",
        "    'tulip': 4,\n",
        "}"
      ],
      "execution_count": 4,
      "outputs": []
    },
    {
      "cell_type": "code",
      "metadata": {
        "id": "C2QkM0FRshF8"
      },
      "source": [
        "X, y = [], []\n",
        "\n",
        "for flower_name, images in flowers_images_dict.items():\n",
        "    for image in images:\n",
        "        img = cv2.imread(str(image))\n",
        "        try:\n",
        "           resized_img = cv2.resize(img,(224,224))\n",
        "        except:\n",
        "            continue\n",
        "        X.append(resized_img)\n",
        "        y.append(flowers_labels_dict[flower_name])"
      ],
      "execution_count": 5,
      "outputs": []
    },
    {
      "cell_type": "code",
      "metadata": {
        "colab": {
          "base_uri": "https://localhost:8080/"
        },
        "id": "CoiCz3LE2mGC",
        "outputId": "fde84a52-ad57-4e32-ce5c-2ccf46a2af1f"
      },
      "source": [
        "print(X[0])"
      ],
      "execution_count": 6,
      "outputs": [
        {
          "output_type": "stream",
          "text": [
            "[[[ 0 15  6]\n",
            "  [ 0 15  6]\n",
            "  [ 0 16  7]\n",
            "  ...\n",
            "  [24 51 31]\n",
            "  [25 52 32]\n",
            "  [26 53 33]]\n",
            "\n",
            " [[ 8 22 14]\n",
            "  [ 8 22 14]\n",
            "  [ 7 21 14]\n",
            "  ...\n",
            "  [21 47 31]\n",
            "  [24 49 34]\n",
            "  [25 51 35]]\n",
            "\n",
            " [[12 22 15]\n",
            "  [12 22 15]\n",
            "  [11 22 14]\n",
            "  ...\n",
            "  [21 43 31]\n",
            "  [24 46 33]\n",
            "  [26 48 36]]\n",
            "\n",
            " ...\n",
            "\n",
            " [[17 29 25]\n",
            "  [14 25 20]\n",
            "  [13 22 15]\n",
            "  ...\n",
            "  [ 2 11  2]\n",
            "  [ 0  7  1]\n",
            "  [ 0  4  0]]\n",
            "\n",
            " [[19 30 28]\n",
            "  [18 28 25]\n",
            "  [16 25 19]\n",
            "  ...\n",
            "  [ 2 10  2]\n",
            "  [ 1  8  2]\n",
            "  [ 0  7  2]]\n",
            "\n",
            " [[ 9 19 19]\n",
            "  [15 23 22]\n",
            "  [19 27 24]\n",
            "  ...\n",
            "  [ 1 11  2]\n",
            "  [ 2 10  3]\n",
            "  [ 3 11  4]]]\n"
          ],
          "name": "stdout"
        }
      ]
    },
    {
      "cell_type": "code",
      "metadata": {
        "id": "oaa5FoaQg6M9",
        "colab": {
          "base_uri": "https://localhost:8080/"
        },
        "outputId": "842006bf-4b18-4054-9ec8-1a877ac1facd"
      },
      "source": [
        "print(len(X))"
      ],
      "execution_count": 7,
      "outputs": [
        {
          "output_type": "stream",
          "text": [
            "4932\n"
          ],
          "name": "stdout"
        }
      ]
    },
    {
      "cell_type": "code",
      "metadata": {
        "id": "NSYGFmnevz94",
        "colab": {
          "base_uri": "https://localhost:8080/"
        },
        "outputId": "7441b51c-ffd7-43f7-db38-6905ec3c878c"
      },
      "source": [
        "flowers_images_dict.keys()"
      ],
      "execution_count": 8,
      "outputs": [
        {
          "output_type": "execute_result",
          "data": {
            "text/plain": [
              "dict_keys(['rose', 'daisy', 'dandelion', 'sunflower', 'tulip'])"
            ]
          },
          "metadata": {
            "tags": []
          },
          "execution_count": 8
        }
      ]
    },
    {
      "cell_type": "code",
      "metadata": {
        "id": "5_O5aiNvvRJi",
        "colab": {
          "base_uri": "https://localhost:8080/"
        },
        "outputId": "c12f7bdc-8014-4e58-e0fb-34d1e6e51d6e"
      },
      "source": [
        "print(y)"
      ],
      "execution_count": 9,
      "outputs": [
        {
          "output_type": "stream",
          "text": [
            "[0, 0, 0, 0, 0, 0, 0, 0, 0, 0, 0, 0, 0, 0, 0, 0, 0, 0, 0, 0, 0, 0, 0, 0, 0, 0, 0, 0, 0, 0, 0, 0, 0, 0, 0, 0, 0, 0, 0, 0, 0, 0, 0, 0, 0, 0, 0, 0, 0, 0, 0, 0, 0, 0, 0, 0, 0, 0, 0, 0, 0, 0, 0, 0, 0, 0, 0, 0, 0, 0, 0, 0, 0, 0, 0, 0, 0, 0, 0, 0, 0, 0, 0, 0, 0, 0, 0, 0, 0, 0, 0, 0, 0, 0, 0, 0, 0, 0, 0, 0, 0, 0, 0, 0, 0, 0, 0, 0, 0, 0, 0, 0, 0, 0, 0, 0, 0, 0, 0, 0, 0, 0, 0, 0, 0, 0, 0, 0, 0, 0, 0, 0, 0, 0, 0, 0, 0, 0, 0, 0, 0, 0, 0, 0, 0, 0, 0, 0, 0, 0, 0, 0, 0, 0, 0, 0, 0, 0, 0, 0, 0, 0, 0, 0, 0, 0, 0, 0, 0, 0, 0, 0, 0, 0, 0, 0, 0, 0, 0, 0, 0, 0, 0, 0, 0, 0, 0, 0, 0, 0, 0, 0, 0, 0, 0, 0, 0, 0, 0, 0, 0, 0, 0, 0, 0, 0, 0, 0, 0, 0, 0, 0, 0, 0, 0, 0, 0, 0, 0, 0, 0, 0, 0, 0, 0, 0, 0, 0, 0, 0, 0, 0, 0, 0, 0, 0, 0, 0, 0, 0, 0, 0, 0, 0, 0, 0, 0, 0, 0, 0, 0, 0, 0, 0, 0, 0, 0, 0, 0, 0, 0, 0, 0, 0, 0, 0, 0, 0, 0, 0, 0, 0, 0, 0, 0, 0, 0, 0, 0, 0, 0, 0, 0, 0, 0, 0, 0, 0, 0, 0, 0, 0, 0, 0, 0, 0, 0, 0, 0, 0, 0, 0, 0, 0, 0, 0, 0, 0, 0, 0, 0, 0, 0, 0, 0, 0, 0, 0, 0, 0, 0, 0, 0, 0, 0, 0, 0, 0, 0, 0, 0, 0, 0, 0, 0, 0, 0, 0, 0, 0, 0, 0, 0, 0, 0, 0, 0, 0, 0, 0, 0, 0, 0, 0, 0, 0, 0, 0, 0, 0, 0, 0, 0, 0, 0, 0, 0, 0, 0, 0, 0, 0, 0, 0, 0, 0, 0, 0, 0, 0, 0, 0, 0, 0, 0, 0, 0, 0, 0, 0, 0, 0, 0, 0, 0, 0, 0, 0, 0, 0, 0, 0, 0, 0, 0, 0, 0, 0, 0, 0, 0, 0, 0, 0, 0, 0, 0, 0, 0, 0, 0, 0, 0, 0, 0, 0, 0, 0, 0, 0, 0, 0, 0, 0, 0, 0, 0, 0, 0, 0, 0, 0, 0, 0, 0, 0, 0, 0, 0, 0, 0, 0, 0, 0, 0, 0, 0, 0, 0, 0, 0, 0, 0, 0, 0, 0, 0, 0, 0, 0, 0, 0, 0, 0, 0, 0, 0, 0, 0, 0, 0, 0, 0, 0, 0, 0, 0, 0, 0, 0, 0, 0, 0, 0, 0, 0, 0, 0, 0, 0, 0, 0, 0, 0, 0, 0, 0, 0, 0, 0, 0, 0, 0, 0, 0, 0, 0, 0, 0, 0, 0, 0, 0, 0, 0, 0, 0, 0, 0, 0, 0, 0, 0, 0, 0, 0, 0, 0, 0, 0, 0, 0, 0, 0, 0, 0, 0, 0, 0, 0, 0, 0, 0, 0, 0, 0, 0, 0, 0, 0, 0, 0, 0, 0, 0, 0, 0, 0, 0, 0, 0, 0, 0, 0, 0, 0, 0, 0, 0, 0, 0, 0, 0, 0, 0, 0, 0, 0, 0, 0, 0, 0, 0, 0, 0, 0, 0, 0, 0, 0, 0, 0, 0, 0, 0, 0, 0, 0, 0, 0, 0, 0, 0, 0, 0, 0, 0, 0, 0, 0, 0, 0, 0, 0, 0, 0, 0, 0, 0, 0, 0, 0, 0, 0, 0, 0, 0, 0, 0, 0, 0, 0, 0, 0, 0, 0, 0, 0, 0, 0, 0, 0, 0, 0, 0, 0, 0, 0, 0, 0, 0, 0, 0, 0, 0, 0, 0, 0, 0, 0, 0, 0, 0, 0, 0, 0, 0, 0, 0, 0, 0, 0, 0, 0, 0, 0, 0, 0, 0, 0, 0, 0, 0, 0, 0, 0, 0, 0, 0, 0, 0, 0, 0, 0, 0, 0, 0, 0, 0, 0, 0, 0, 0, 0, 0, 0, 0, 0, 0, 0, 0, 0, 0, 0, 0, 0, 0, 0, 0, 0, 0, 0, 0, 0, 0, 0, 0, 0, 0, 0, 0, 0, 0, 0, 0, 0, 0, 0, 0, 0, 0, 0, 0, 0, 0, 0, 0, 0, 0, 0, 0, 0, 0, 0, 0, 0, 0, 0, 0, 0, 0, 0, 0, 0, 0, 0, 0, 0, 0, 0, 0, 0, 0, 0, 0, 0, 0, 0, 0, 0, 0, 0, 0, 0, 0, 0, 0, 0, 0, 0, 0, 0, 0, 0, 0, 0, 0, 0, 0, 0, 0, 0, 0, 0, 0, 0, 0, 0, 0, 0, 0, 0, 0, 0, 0, 0, 0, 0, 0, 0, 0, 0, 0, 0, 0, 0, 0, 0, 0, 0, 0, 0, 0, 0, 0, 0, 0, 0, 0, 0, 0, 0, 0, 0, 0, 0, 0, 0, 0, 0, 0, 0, 0, 0, 0, 0, 0, 0, 0, 0, 0, 0, 0, 0, 0, 0, 0, 0, 0, 0, 0, 0, 0, 0, 0, 0, 0, 0, 0, 0, 0, 0, 0, 0, 0, 0, 0, 0, 0, 0, 0, 0, 0, 0, 0, 0, 0, 0, 0, 0, 0, 0, 0, 0, 0, 0, 0, 0, 0, 0, 0, 0, 0, 0, 0, 0, 0, 0, 0, 0, 0, 0, 0, 0, 0, 0, 0, 0, 0, 0, 0, 0, 0, 0, 0, 0, 0, 0, 0, 0, 0, 0, 0, 0, 0, 1, 1, 1, 1, 1, 1, 1, 1, 1, 1, 1, 1, 1, 1, 1, 1, 1, 1, 1, 1, 1, 1, 1, 1, 1, 1, 1, 1, 1, 1, 1, 1, 1, 1, 1, 1, 1, 1, 1, 1, 1, 1, 1, 1, 1, 1, 1, 1, 1, 1, 1, 1, 1, 1, 1, 1, 1, 1, 1, 1, 1, 1, 1, 1, 1, 1, 1, 1, 1, 1, 1, 1, 1, 1, 1, 1, 1, 1, 1, 1, 1, 1, 1, 1, 1, 1, 1, 1, 1, 1, 1, 1, 1, 1, 1, 1, 1, 1, 1, 1, 1, 1, 1, 1, 1, 1, 1, 1, 1, 1, 1, 1, 1, 1, 1, 1, 1, 1, 1, 1, 1, 1, 1, 1, 1, 1, 1, 1, 1, 1, 1, 1, 1, 1, 1, 1, 1, 1, 1, 1, 1, 1, 1, 1, 1, 1, 1, 1, 1, 1, 1, 1, 1, 1, 1, 1, 1, 1, 1, 1, 1, 1, 1, 1, 1, 1, 1, 1, 1, 1, 1, 1, 1, 1, 1, 1, 1, 1, 1, 1, 1, 1, 1, 1, 1, 1, 1, 1, 1, 1, 1, 1, 1, 1, 1, 1, 1, 1, 1, 1, 1, 1, 1, 1, 1, 1, 1, 1, 1, 1, 1, 1, 1, 1, 1, 1, 1, 1, 1, 1, 1, 1, 1, 1, 1, 1, 1, 1, 1, 1, 1, 1, 1, 1, 1, 1, 1, 1, 1, 1, 1, 1, 1, 1, 1, 1, 1, 1, 1, 1, 1, 1, 1, 1, 1, 1, 1, 1, 1, 1, 1, 1, 1, 1, 1, 1, 1, 1, 1, 1, 1, 1, 1, 1, 1, 1, 1, 1, 1, 1, 1, 1, 1, 1, 1, 1, 1, 1, 1, 1, 1, 1, 1, 1, 1, 1, 1, 1, 1, 1, 1, 1, 1, 1, 1, 1, 1, 1, 1, 1, 1, 1, 1, 1, 1, 1, 1, 1, 1, 1, 1, 1, 1, 1, 1, 1, 1, 1, 1, 1, 1, 1, 1, 1, 1, 1, 1, 1, 1, 1, 1, 1, 1, 1, 1, 1, 1, 1, 1, 1, 1, 1, 1, 1, 1, 1, 1, 1, 1, 1, 1, 1, 1, 1, 1, 1, 1, 1, 1, 1, 1, 1, 1, 1, 1, 1, 1, 1, 1, 1, 1, 1, 1, 1, 1, 1, 1, 1, 1, 1, 1, 1, 1, 1, 1, 1, 1, 1, 1, 1, 1, 1, 1, 1, 1, 1, 1, 1, 1, 1, 1, 1, 1, 1, 1, 1, 1, 1, 1, 1, 1, 1, 1, 1, 1, 1, 1, 1, 1, 1, 1, 1, 1, 1, 1, 1, 1, 1, 1, 1, 1, 1, 1, 1, 1, 1, 1, 1, 1, 1, 1, 1, 1, 1, 1, 1, 1, 1, 1, 1, 1, 1, 1, 1, 1, 1, 1, 1, 1, 1, 1, 1, 1, 1, 1, 1, 1, 1, 1, 1, 1, 1, 1, 1, 1, 1, 1, 1, 1, 1, 1, 1, 1, 1, 1, 1, 1, 1, 1, 1, 1, 1, 1, 1, 1, 1, 1, 1, 1, 1, 1, 1, 1, 1, 1, 1, 1, 1, 1, 1, 1, 1, 1, 1, 1, 1, 1, 1, 1, 1, 1, 1, 1, 1, 1, 1, 1, 1, 1, 1, 1, 1, 1, 1, 1, 1, 1, 1, 1, 1, 1, 1, 1, 1, 1, 1, 1, 1, 1, 1, 1, 1, 1, 1, 1, 1, 1, 1, 1, 1, 1, 1, 1, 1, 1, 1, 1, 1, 1, 1, 1, 1, 1, 1, 1, 1, 1, 1, 1, 1, 1, 1, 1, 1, 1, 1, 1, 1, 1, 1, 1, 1, 1, 1, 1, 1, 1, 1, 1, 1, 1, 1, 1, 1, 1, 1, 1, 1, 1, 1, 1, 1, 1, 1, 1, 1, 1, 1, 1, 1, 1, 1, 1, 1, 1, 1, 1, 1, 1, 1, 1, 1, 1, 1, 1, 1, 1, 1, 1, 1, 1, 1, 1, 1, 1, 1, 1, 1, 1, 1, 1, 1, 1, 1, 1, 1, 1, 1, 1, 1, 1, 1, 1, 1, 1, 1, 1, 1, 1, 1, 1, 1, 1, 1, 1, 1, 1, 1, 1, 1, 1, 1, 1, 1, 1, 1, 1, 1, 1, 1, 1, 1, 1, 1, 1, 1, 1, 1, 1, 1, 1, 1, 1, 1, 1, 1, 1, 1, 1, 1, 1, 1, 1, 1, 1, 1, 1, 1, 1, 1, 1, 1, 1, 1, 1, 1, 1, 1, 1, 1, 1, 1, 1, 1, 1, 1, 1, 1, 1, 1, 1, 1, 1, 1, 1, 1, 1, 1, 1, 1, 1, 1, 1, 1, 1, 1, 1, 1, 1, 1, 1, 1, 1, 1, 1, 1, 1, 1, 1, 1, 1, 1, 1, 1, 1, 1, 1, 1, 1, 1, 1, 1, 1, 1, 1, 1, 1, 1, 1, 1, 1, 1, 1, 1, 1, 1, 1, 1, 1, 1, 1, 1, 1, 1, 1, 1, 1, 1, 1, 1, 1, 1, 1, 1, 1, 1, 1, 1, 1, 1, 1, 1, 1, 1, 1, 1, 1, 1, 1, 1, 1, 1, 1, 1, 1, 1, 1, 1, 1, 1, 1, 1, 1, 1, 1, 1, 1, 1, 1, 1, 1, 1, 1, 1, 1, 1, 1, 1, 1, 1, 1, 1, 1, 1, 1, 1, 1, 1, 1, 1, 1, 1, 1, 1, 1, 1, 1, 1, 1, 1, 1, 1, 1, 1, 1, 1, 1, 1, 1, 1, 1, 1, 1, 1, 1, 1, 1, 1, 1, 1, 1, 1, 1, 1, 1, 1, 1, 1, 1, 1, 1, 1, 1, 1, 1, 1, 1, 1, 1, 1, 1, 1, 1, 1, 1, 1, 1, 1, 1, 1, 1, 1, 1, 1, 2, 2, 2, 2, 2, 2, 2, 2, 2, 2, 2, 2, 2, 2, 2, 2, 2, 2, 2, 2, 2, 2, 2, 2, 2, 2, 2, 2, 2, 2, 2, 2, 2, 2, 2, 2, 2, 2, 2, 2, 2, 2, 2, 2, 2, 2, 2, 2, 2, 2, 2, 2, 2, 2, 2, 2, 2, 2, 2, 2, 2, 2, 2, 2, 2, 2, 2, 2, 2, 2, 2, 2, 2, 2, 2, 2, 2, 2, 2, 2, 2, 2, 2, 2, 2, 2, 2, 2, 2, 2, 2, 2, 2, 2, 2, 2, 2, 2, 2, 2, 2, 2, 2, 2, 2, 2, 2, 2, 2, 2, 2, 2, 2, 2, 2, 2, 2, 2, 2, 2, 2, 2, 2, 2, 2, 2, 2, 2, 2, 2, 2, 2, 2, 2, 2, 2, 2, 2, 2, 2, 2, 2, 2, 2, 2, 2, 2, 2, 2, 2, 2, 2, 2, 2, 2, 2, 2, 2, 2, 2, 2, 2, 2, 2, 2, 2, 2, 2, 2, 2, 2, 2, 2, 2, 2, 2, 2, 2, 2, 2, 2, 2, 2, 2, 2, 2, 2, 2, 2, 2, 2, 2, 2, 2, 2, 2, 2, 2, 2, 2, 2, 2, 2, 2, 2, 2, 2, 2, 2, 2, 2, 2, 2, 2, 2, 2, 2, 2, 2, 2, 2, 2, 2, 2, 2, 2, 2, 2, 2, 2, 2, 2, 2, 2, 2, 2, 2, 2, 2, 2, 2, 2, 2, 2, 2, 2, 2, 2, 2, 2, 2, 2, 2, 2, 2, 2, 2, 2, 2, 2, 2, 2, 2, 2, 2, 2, 2, 2, 2, 2, 2, 2, 2, 2, 2, 2, 2, 2, 2, 2, 2, 2, 2, 2, 2, 2, 2, 2, 2, 2, 2, 2, 2, 2, 2, 2, 2, 2, 2, 2, 2, 2, 2, 2, 2, 2, 2, 2, 2, 2, 2, 2, 2, 2, 2, 2, 2, 2, 2, 2, 2, 2, 2, 2, 2, 2, 2, 2, 2, 2, 2, 2, 2, 2, 2, 2, 2, 2, 2, 2, 2, 2, 2, 2, 2, 2, 2, 2, 2, 2, 2, 2, 2, 2, 2, 2, 2, 2, 2, 2, 2, 2, 2, 2, 2, 2, 2, 2, 2, 2, 2, 2, 2, 2, 2, 2, 2, 2, 2, 2, 2, 2, 2, 2, 2, 2, 2, 2, 2, 2, 2, 2, 2, 2, 2, 2, 2, 2, 2, 2, 2, 2, 2, 2, 2, 2, 2, 2, 2, 2, 2, 2, 2, 2, 2, 2, 2, 2, 2, 2, 2, 2, 2, 2, 2, 2, 2, 2, 2, 2, 2, 2, 2, 2, 2, 2, 2, 2, 2, 2, 2, 2, 2, 2, 2, 2, 2, 2, 2, 2, 2, 2, 2, 2, 2, 2, 2, 2, 2, 2, 2, 2, 2, 2, 2, 2, 2, 2, 2, 2, 2, 2, 2, 2, 2, 2, 2, 2, 2, 2, 2, 2, 2, 2, 2, 2, 2, 2, 2, 2, 2, 2, 2, 2, 2, 2, 2, 2, 2, 2, 2, 2, 2, 2, 2, 2, 2, 2, 2, 2, 2, 2, 2, 2, 2, 2, 2, 2, 2, 2, 2, 2, 2, 2, 2, 2, 2, 2, 2, 2, 2, 2, 2, 2, 2, 2, 2, 2, 2, 2, 2, 2, 2, 2, 2, 2, 2, 2, 2, 2, 2, 2, 2, 2, 2, 2, 2, 2, 2, 2, 2, 2, 2, 2, 2, 2, 2, 2, 2, 2, 2, 2, 2, 2, 2, 2, 2, 2, 2, 2, 2, 2, 2, 2, 2, 2, 2, 2, 2, 2, 2, 2, 2, 2, 2, 2, 2, 2, 2, 2, 2, 2, 2, 2, 2, 2, 2, 2, 2, 2, 2, 2, 2, 2, 2, 2, 2, 2, 2, 2, 2, 2, 2, 2, 2, 2, 2, 2, 2, 2, 2, 2, 2, 2, 2, 2, 2, 2, 2, 2, 2, 2, 2, 2, 2, 2, 2, 2, 2, 2, 2, 2, 2, 2, 2, 2, 2, 2, 2, 2, 2, 2, 2, 2, 2, 2, 2, 2, 2, 2, 2, 2, 2, 2, 2, 2, 2, 2, 2, 2, 2, 2, 2, 2, 2, 2, 2, 2, 2, 2, 2, 2, 2, 2, 2, 2, 2, 2, 2, 2, 2, 2, 2, 2, 2, 2, 2, 2, 2, 2, 2, 2, 2, 2, 2, 2, 2, 2, 2, 2, 2, 2, 2, 2, 2, 2, 2, 2, 2, 2, 2, 2, 2, 2, 2, 2, 2, 2, 2, 2, 2, 2, 2, 2, 2, 2, 2, 2, 2, 2, 2, 2, 2, 2, 2, 2, 2, 2, 2, 2, 2, 2, 2, 2, 2, 2, 2, 2, 2, 2, 2, 2, 2, 2, 2, 2, 2, 2, 2, 2, 2, 2, 2, 2, 2, 2, 2, 2, 2, 2, 2, 2, 2, 2, 2, 2, 2, 2, 2, 2, 2, 2, 2, 2, 2, 2, 2, 2, 2, 2, 2, 2, 2, 2, 2, 2, 2, 2, 2, 2, 2, 2, 2, 2, 2, 2, 2, 2, 2, 2, 2, 2, 2, 2, 2, 2, 2, 2, 2, 2, 2, 2, 2, 2, 2, 2, 2, 2, 2, 2, 2, 2, 2, 2, 2, 2, 2, 2, 2, 2, 2, 2, 2, 2, 2, 2, 2, 2, 2, 2, 2, 2, 2, 2, 2, 2, 2, 2, 2, 2, 2, 2, 2, 2, 2, 2, 2, 2, 2, 2, 2, 2, 2, 2, 2, 2, 2, 2, 2, 2, 2, 2, 2, 2, 2, 2, 2, 2, 2, 2, 2, 2, 2, 2, 2, 2, 2, 2, 2, 2, 2, 2, 2, 2, 2, 2, 2, 2, 2, 2, 2, 2, 2, 2, 2, 2, 2, 2, 2, 2, 2, 2, 2, 2, 2, 2, 2, 2, 2, 2, 2, 2, 2, 2, 2, 2, 2, 2, 2, 2, 2, 2, 2, 2, 2, 2, 2, 2, 2, 2, 2, 2, 2, 2, 2, 2, 2, 2, 2, 2, 2, 2, 2, 2, 2, 2, 2, 2, 2, 2, 2, 2, 2, 2, 2, 2, 2, 2, 2, 2, 2, 2, 2, 2, 2, 2, 2, 2, 2, 2, 2, 2, 2, 2, 2, 2, 2, 2, 2, 2, 2, 2, 2, 2, 2, 2, 2, 2, 2, 2, 2, 2, 2, 2, 2, 2, 2, 2, 2, 2, 2, 2, 2, 2, 2, 2, 2, 2, 2, 2, 2, 2, 2, 2, 2, 2, 2, 2, 2, 2, 2, 2, 2, 2, 2, 2, 2, 2, 2, 2, 2, 2, 2, 2, 2, 2, 2, 2, 2, 2, 2, 2, 2, 2, 2, 2, 2, 2, 2, 2, 2, 2, 2, 2, 2, 2, 2, 2, 2, 2, 2, 3, 3, 3, 3, 3, 3, 3, 3, 3, 3, 3, 3, 3, 3, 3, 3, 3, 3, 3, 3, 3, 3, 3, 3, 3, 3, 3, 3, 3, 3, 3, 3, 3, 3, 3, 3, 3, 3, 3, 3, 3, 3, 3, 3, 3, 3, 3, 3, 3, 3, 3, 3, 3, 3, 3, 3, 3, 3, 3, 3, 3, 3, 3, 3, 3, 3, 3, 3, 3, 3, 3, 3, 3, 3, 3, 3, 3, 3, 3, 3, 3, 3, 3, 3, 3, 3, 3, 3, 3, 3, 3, 3, 3, 3, 3, 3, 3, 3, 3, 3, 3, 3, 3, 3, 3, 3, 3, 3, 3, 3, 3, 3, 3, 3, 3, 3, 3, 3, 3, 3, 3, 3, 3, 3, 3, 3, 3, 3, 3, 3, 3, 3, 3, 3, 3, 3, 3, 3, 3, 3, 3, 3, 3, 3, 3, 3, 3, 3, 3, 3, 3, 3, 3, 3, 3, 3, 3, 3, 3, 3, 3, 3, 3, 3, 3, 3, 3, 3, 3, 3, 3, 3, 3, 3, 3, 3, 3, 3, 3, 3, 3, 3, 3, 3, 3, 3, 3, 3, 3, 3, 3, 3, 3, 3, 3, 3, 3, 3, 3, 3, 3, 3, 3, 3, 3, 3, 3, 3, 3, 3, 3, 3, 3, 3, 3, 3, 3, 3, 3, 3, 3, 3, 3, 3, 3, 3, 3, 3, 3, 3, 3, 3, 3, 3, 3, 3, 3, 3, 3, 3, 3, 3, 3, 3, 3, 3, 3, 3, 3, 3, 3, 3, 3, 3, 3, 3, 3, 3, 3, 3, 3, 3, 3, 3, 3, 3, 3, 3, 3, 3, 3, 3, 3, 3, 3, 3, 3, 3, 3, 3, 3, 3, 3, 3, 3, 3, 3, 3, 3, 3, 3, 3, 3, 3, 3, 3, 3, 3, 3, 3, 3, 3, 3, 3, 3, 3, 3, 3, 3, 3, 3, 3, 3, 3, 3, 3, 3, 3, 3, 3, 3, 3, 3, 3, 3, 3, 3, 3, 3, 3, 3, 3, 3, 3, 3, 3, 3, 3, 3, 3, 3, 3, 3, 3, 3, 3, 3, 3, 3, 3, 3, 3, 3, 3, 3, 3, 3, 3, 3, 3, 3, 3, 3, 3, 3, 3, 3, 3, 3, 3, 3, 3, 3, 3, 3, 3, 3, 3, 3, 3, 3, 3, 3, 3, 3, 3, 3, 3, 3, 3, 3, 3, 3, 3, 3, 3, 3, 3, 3, 3, 3, 3, 3, 3, 3, 3, 3, 3, 3, 3, 3, 3, 3, 3, 3, 3, 3, 3, 3, 3, 3, 3, 3, 3, 3, 3, 3, 3, 3, 3, 3, 3, 3, 3, 3, 3, 3, 3, 3, 3, 3, 3, 3, 3, 3, 3, 3, 3, 3, 3, 3, 3, 3, 3, 3, 3, 3, 3, 3, 3, 3, 3, 3, 3, 3, 3, 3, 3, 3, 3, 3, 3, 3, 3, 3, 3, 3, 3, 3, 3, 3, 3, 3, 3, 3, 3, 3, 3, 3, 3, 3, 3, 3, 3, 3, 3, 3, 3, 3, 3, 3, 3, 3, 3, 3, 3, 3, 3, 3, 3, 3, 3, 3, 3, 3, 3, 3, 3, 3, 3, 3, 3, 3, 3, 3, 3, 3, 3, 3, 3, 3, 3, 3, 3, 3, 3, 3, 3, 3, 3, 3, 3, 3, 3, 3, 3, 3, 3, 3, 3, 3, 3, 3, 3, 3, 3, 3, 3, 3, 3, 3, 3, 3, 3, 3, 3, 3, 3, 3, 3, 3, 3, 3, 3, 3, 3, 3, 3, 3, 3, 3, 3, 3, 3, 3, 3, 3, 3, 3, 3, 3, 3, 3, 3, 3, 3, 3, 3, 3, 3, 3, 3, 3, 3, 3, 3, 3, 3, 3, 3, 3, 3, 3, 3, 3, 3, 3, 3, 3, 3, 3, 3, 3, 3, 3, 3, 3, 3, 3, 3, 3, 3, 3, 3, 3, 3, 3, 3, 3, 3, 3, 3, 3, 3, 3, 3, 3, 3, 3, 3, 3, 3, 3, 3, 3, 3, 3, 3, 3, 3, 3, 3, 3, 3, 3, 3, 3, 3, 3, 3, 3, 3, 3, 3, 3, 3, 3, 3, 3, 3, 3, 3, 3, 3, 3, 3, 3, 3, 3, 3, 3, 3, 3, 3, 3, 3, 3, 3, 3, 3, 3, 3, 3, 3, 3, 3, 3, 3, 3, 3, 3, 3, 3, 3, 3, 3, 3, 3, 3, 3, 3, 3, 3, 3, 3, 3, 3, 3, 3, 3, 3, 3, 3, 3, 3, 3, 3, 3, 3, 3, 3, 3, 3, 3, 3, 3, 3, 3, 3, 3, 3, 3, 3, 3, 3, 3, 3, 3, 3, 3, 3, 3, 3, 3, 3, 3, 3, 3, 3, 3, 3, 3, 3, 3, 3, 3, 3, 3, 3, 3, 3, 3, 3, 3, 3, 3, 3, 3, 3, 3, 3, 3, 3, 3, 3, 3, 3, 3, 3, 3, 3, 3, 3, 3, 3, 3, 3, 3, 3, 3, 3, 3, 3, 3, 3, 3, 3, 3, 3, 3, 3, 3, 3, 3, 3, 3, 3, 3, 3, 3, 3, 3, 3, 3, 3, 3, 3, 3, 3, 3, 3, 3, 3, 3, 3, 3, 3, 3, 3, 3, 3, 3, 3, 3, 3, 3, 3, 3, 3, 3, 3, 3, 3, 3, 3, 3, 3, 3, 3, 3, 3, 3, 3, 3, 3, 3, 3, 3, 3, 3, 3, 3, 3, 3, 3, 3, 3, 3, 3, 3, 3, 3, 3, 3, 3, 3, 3, 3, 3, 3, 3, 3, 3, 3, 3, 3, 3, 3, 3, 3, 3, 3, 3, 3, 3, 3, 3, 3, 3, 3, 3, 3, 3, 3, 3, 3, 3, 3, 3, 3, 3, 3, 3, 3, 3, 3, 3, 3, 3, 3, 3, 3, 3, 3, 3, 3, 3, 3, 4, 4, 4, 4, 4, 4, 4, 4, 4, 4, 4, 4, 4, 4, 4, 4, 4, 4, 4, 4, 4, 4, 4, 4, 4, 4, 4, 4, 4, 4, 4, 4, 4, 4, 4, 4, 4, 4, 4, 4, 4, 4, 4, 4, 4, 4, 4, 4, 4, 4, 4, 4, 4, 4, 4, 4, 4, 4, 4, 4, 4, 4, 4, 4, 4, 4, 4, 4, 4, 4, 4, 4, 4, 4, 4, 4, 4, 4, 4, 4, 4, 4, 4, 4, 4, 4, 4, 4, 4, 4, 4, 4, 4, 4, 4, 4, 4, 4, 4, 4, 4, 4, 4, 4, 4, 4, 4, 4, 4, 4, 4, 4, 4, 4, 4, 4, 4, 4, 4, 4, 4, 4, 4, 4, 4, 4, 4, 4, 4, 4, 4, 4, 4, 4, 4, 4, 4, 4, 4, 4, 4, 4, 4, 4, 4, 4, 4, 4, 4, 4, 4, 4, 4, 4, 4, 4, 4, 4, 4, 4, 4, 4, 4, 4, 4, 4, 4, 4, 4, 4, 4, 4, 4, 4, 4, 4, 4, 4, 4, 4, 4, 4, 4, 4, 4, 4, 4, 4, 4, 4, 4, 4, 4, 4, 4, 4, 4, 4, 4, 4, 4, 4, 4, 4, 4, 4, 4, 4, 4, 4, 4, 4, 4, 4, 4, 4, 4, 4, 4, 4, 4, 4, 4, 4, 4, 4, 4, 4, 4, 4, 4, 4, 4, 4, 4, 4, 4, 4, 4, 4, 4, 4, 4, 4, 4, 4, 4, 4, 4, 4, 4, 4, 4, 4, 4, 4, 4, 4, 4, 4, 4, 4, 4, 4, 4, 4, 4, 4, 4, 4, 4, 4, 4, 4, 4, 4, 4, 4, 4, 4, 4, 4, 4, 4, 4, 4, 4, 4, 4, 4, 4, 4, 4, 4, 4, 4, 4, 4, 4, 4, 4, 4, 4, 4, 4, 4, 4, 4, 4, 4, 4, 4, 4, 4, 4, 4, 4, 4, 4, 4, 4, 4, 4, 4, 4, 4, 4, 4, 4, 4, 4, 4, 4, 4, 4, 4, 4, 4, 4, 4, 4, 4, 4, 4, 4, 4, 4, 4, 4, 4, 4, 4, 4, 4, 4, 4, 4, 4, 4, 4, 4, 4, 4, 4, 4, 4, 4, 4, 4, 4, 4, 4, 4, 4, 4, 4, 4, 4, 4, 4, 4, 4, 4, 4, 4, 4, 4, 4, 4, 4, 4, 4, 4, 4, 4, 4, 4, 4, 4, 4, 4, 4, 4, 4, 4, 4, 4, 4, 4, 4, 4, 4, 4, 4, 4, 4, 4, 4, 4, 4, 4, 4, 4, 4, 4, 4, 4, 4, 4, 4, 4, 4, 4, 4, 4, 4, 4, 4, 4, 4, 4, 4, 4, 4, 4, 4, 4, 4, 4, 4, 4, 4, 4, 4, 4, 4, 4, 4, 4, 4, 4, 4, 4, 4, 4, 4, 4, 4, 4, 4, 4, 4, 4, 4, 4, 4, 4, 4, 4, 4, 4, 4, 4, 4, 4, 4, 4, 4, 4, 4, 4, 4, 4, 4, 4, 4, 4, 4, 4, 4, 4, 4, 4, 4, 4, 4, 4, 4, 4, 4, 4, 4, 4, 4, 4, 4, 4, 4, 4, 4, 4, 4, 4, 4, 4, 4, 4, 4, 4, 4, 4, 4, 4, 4, 4, 4, 4, 4, 4, 4, 4, 4, 4, 4, 4, 4, 4, 4, 4, 4, 4, 4, 4, 4, 4, 4, 4, 4, 4, 4, 4, 4, 4, 4, 4, 4, 4, 4, 4, 4, 4, 4, 4, 4, 4, 4, 4, 4, 4, 4, 4, 4, 4, 4, 4, 4, 4, 4, 4, 4, 4, 4, 4, 4, 4, 4, 4, 4, 4, 4, 4, 4, 4, 4, 4, 4, 4, 4, 4, 4, 4, 4, 4, 4, 4, 4, 4, 4, 4, 4, 4, 4, 4, 4, 4, 4, 4, 4, 4, 4, 4, 4, 4, 4, 4, 4, 4, 4, 4, 4, 4, 4, 4, 4, 4, 4, 4, 4, 4, 4, 4, 4, 4, 4, 4, 4, 4, 4, 4, 4, 4, 4, 4, 4, 4, 4, 4, 4, 4, 4, 4, 4, 4, 4, 4, 4, 4, 4, 4, 4, 4, 4, 4, 4, 4, 4, 4, 4, 4, 4, 4, 4, 4, 4, 4, 4, 4, 4, 4, 4, 4, 4, 4, 4, 4, 4, 4, 4, 4, 4, 4, 4, 4, 4, 4, 4, 4, 4, 4, 4, 4, 4, 4, 4, 4, 4, 4, 4, 4, 4, 4, 4, 4, 4, 4, 4, 4, 4, 4, 4, 4, 4, 4, 4, 4, 4, 4, 4, 4, 4, 4, 4, 4, 4, 4, 4, 4, 4, 4, 4, 4, 4, 4, 4, 4, 4, 4, 4, 4, 4, 4, 4, 4, 4, 4, 4, 4, 4, 4, 4, 4, 4, 4, 4, 4, 4, 4, 4, 4, 4, 4, 4, 4, 4, 4, 4, 4, 4, 4, 4, 4, 4, 4, 4, 4, 4, 4, 4, 4, 4, 4, 4, 4, 4, 4, 4, 4, 4, 4, 4, 4, 4, 4, 4, 4, 4, 4, 4, 4, 4, 4, 4, 4, 4, 4, 4, 4, 4, 4, 4, 4, 4, 4, 4, 4, 4, 4, 4, 4, 4, 4, 4, 4, 4, 4, 4, 4, 4, 4, 4, 4, 4, 4, 4, 4, 4, 4, 4, 4, 4, 4, 4, 4, 4, 4, 4, 4, 4, 4, 4, 4, 4, 4, 4, 4, 4, 4, 4, 4, 4, 4, 4, 4, 4, 4, 4, 4, 4, 4, 4, 4, 4, 4, 4, 4, 4, 4, 4, 4, 4, 4, 4, 4, 4, 4, 4, 4, 4, 4, 4, 4, 4, 4, 4, 4, 4, 4, 4, 4, 4, 4, 4, 4, 4, 4, 4, 4, 4, 4, 4, 4, 4, 4, 4, 4, 4, 4, 4, 4, 4, 4, 4, 4, 4, 4, 4, 4, 4, 4, 4, 4, 4, 4, 4, 4, 4, 4, 4, 4, 4, 4, 4, 4, 4, 4, 4, 4, 4, 4, 4, 4, 4, 4, 4]\n"
          ],
          "name": "stdout"
        }
      ]
    },
    {
      "cell_type": "code",
      "metadata": {
        "id": "0bUIjlj2si96",
        "colab": {
          "base_uri": "https://localhost:8080/"
        },
        "outputId": "44cac653-6ebb-4a4d-e4b0-afca517bdd3f"
      },
      "source": [
        "X = np.array(X)\n",
        "y = np.array(y)\n",
        "X.shape"
      ],
      "execution_count": 10,
      "outputs": [
        {
          "output_type": "execute_result",
          "data": {
            "text/plain": [
              "(4932, 224, 224, 3)"
            ]
          },
          "metadata": {
            "tags": []
          },
          "execution_count": 10
        }
      ]
    },
    {
      "cell_type": "code",
      "metadata": {
        "id": "bDf4Suu2sjVY",
        "colab": {
          "base_uri": "https://localhost:8080/"
        },
        "outputId": "d13bf604-4d4a-4768-80c1-2cb688210c16"
      },
      "source": [
        "from sklearn.model_selection import train_test_split\n",
        "X_train, X_test, y_train, y_test = train_test_split(X, y, random_state=0)\n",
        "X_train = X_train.astype('float32')\n",
        "X_test = X_test.astype('float32')\n",
        "X_test[0]"
      ],
      "execution_count": 11,
      "outputs": [
        {
          "output_type": "execute_result",
          "data": {
            "text/plain": [
              "array([[[252., 185., 159.],\n",
              "        [254., 191., 149.],\n",
              "        [253., 189., 160.],\n",
              "        ...,\n",
              "        [250., 194., 158.],\n",
              "        [249., 187., 148.],\n",
              "        [253., 194., 153.]],\n",
              "\n",
              "       [[252., 192., 148.],\n",
              "        [245., 197., 143.],\n",
              "        [222., 185., 149.],\n",
              "        ...,\n",
              "        [226., 183., 150.],\n",
              "        [249., 196., 154.],\n",
              "        [254., 194., 148.]],\n",
              "\n",
              "       [[253., 193., 158.],\n",
              "        [197., 160., 124.],\n",
              "        [129., 114., 106.],\n",
              "        ...,\n",
              "        [128., 114., 105.],\n",
              "        [195., 155., 129.],\n",
              "        [248., 190., 153.]],\n",
              "\n",
              "       ...,\n",
              "\n",
              "       [[252., 195., 153.],\n",
              "        [203., 171., 129.],\n",
              "        [151., 129., 115.],\n",
              "        ...,\n",
              "        [146., 126., 113.],\n",
              "        [204., 172., 132.],\n",
              "        [243., 191., 151.]],\n",
              "\n",
              "       [[255., 188., 151.],\n",
              "        [249., 197., 152.],\n",
              "        [239., 187., 160.],\n",
              "        ...,\n",
              "        [236., 189., 162.],\n",
              "        [247., 194., 149.],\n",
              "        [253., 190., 152.]],\n",
              "\n",
              "       [[254., 191., 152.],\n",
              "        [253., 191., 151.],\n",
              "        [253., 191., 152.],\n",
              "        ...,\n",
              "        [254., 192., 152.],\n",
              "        [254., 192., 152.],\n",
              "        [253., 191., 151.]]], dtype=float32)"
            ]
          },
          "metadata": {
            "tags": []
          },
          "execution_count": 11
        }
      ]
    },
    {
      "cell_type": "code",
      "metadata": {
        "id": "X9g3LeiqIxpS",
        "colab": {
          "base_uri": "https://localhost:8080/"
        },
        "outputId": "eab74fb1-4006-45b8-eda9-191737dda51b"
      },
      "source": [
        "len(X_train)"
      ],
      "execution_count": 12,
      "outputs": [
        {
          "output_type": "execute_result",
          "data": {
            "text/plain": [
              "3699"
            ]
          },
          "metadata": {
            "tags": []
          },
          "execution_count": 12
        }
      ]
    },
    {
      "cell_type": "code",
      "metadata": {
        "id": "GK8LXytJJtka",
        "colab": {
          "base_uri": "https://localhost:8080/"
        },
        "outputId": "8068d8fa-2960-49a4-e566-7336db846839"
      },
      "source": [
        "len(X_test)"
      ],
      "execution_count": 13,
      "outputs": [
        {
          "output_type": "execute_result",
          "data": {
            "text/plain": [
              "1233"
            ]
          },
          "metadata": {
            "tags": []
          },
          "execution_count": 13
        }
      ]
    },
    {
      "cell_type": "code",
      "metadata": {
        "id": "IB6rVmTDsqqw"
      },
      "source": [
        "X_train_scaled = X_train / 255\n",
        "X_test_scaled = X_test / 255"
      ],
      "execution_count": 14,
      "outputs": []
    },
    {
      "cell_type": "code",
      "metadata": {
        "id": "38iOKw01mLVW",
        "colab": {
          "base_uri": "https://localhost:8080/"
        },
        "outputId": "19786313-f1f3-4229-ddc7-a347efc46232"
      },
      "source": [
        "y_train=to_categorical(y_train)\n",
        "y_test=to_categorical(y_test)\n",
        "y_train.shape"
      ],
      "execution_count": 15,
      "outputs": [
        {
          "output_type": "execute_result",
          "data": {
            "text/plain": [
              "(3699, 5)"
            ]
          },
          "metadata": {
            "tags": []
          },
          "execution_count": 15
        }
      ]
    },
    {
      "cell_type": "code",
      "metadata": {
        "colab": {
          "base_uri": "https://localhost:8080/"
        },
        "id": "FG1UESKA_td5",
        "outputId": "05340a45-c615-44be-bd2a-f445b90c236c"
      },
      "source": [
        "y_train.shape"
      ],
      "execution_count": 16,
      "outputs": [
        {
          "output_type": "execute_result",
          "data": {
            "text/plain": [
              "(3699, 5)"
            ]
          },
          "metadata": {
            "tags": []
          },
          "execution_count": 16
        }
      ]
    },
    {
      "cell_type": "code",
      "metadata": {
        "id": "J0oe5Wdbswwh",
        "colab": {
          "base_uri": "https://localhost:8080/",
          "height": 286
        },
        "outputId": "51087c8a-0b1c-413f-993d-e5ae5ada9c0b"
      },
      "source": [
        "plt.imshow(X[100])\n",
        "print(y[100])"
      ],
      "execution_count": 17,
      "outputs": [
        {
          "output_type": "stream",
          "text": [
            "0\n"
          ],
          "name": "stdout"
        },
        {
          "output_type": "display_data",
          "data": {
            "text/plain": [
              "<Figure size 432x288 with 1 Axes>"
            ],
            "image/png": "[encoded data removed]"
          },
          "metadata": {
            "tags": [],
            "needs_background": "light"
          }
        }
      ]
    },
    {
      "cell_type": "code",
      "metadata": {
        "id": "E-ZF5PGhjxPg",
        "colab": {
          "base_uri": "https://localhost:8080/"
        },
        "outputId": "120b8121-c5d0-41cf-de52-b157be7fb607"
      },
      "source": [
        "mobilenet = keras.applications.MobileNetV2(input_shape=(224, 224, 3),\n",
        "                                                   include_top=False,\n",
        "                                                   weights='imagenet')\n",
        "mobilenet.trainable = True\n",
        "for layer in mobilenet.layers[:120]:\n",
        "  layer.trainable = False\n",
        "len(mobilenet.layers)"
      ],
      "execution_count": 18,
      "outputs": [
        {
          "output_type": "execute_result",
          "data": {
            "text/plain": [
              "154"
            ]
          },
          "metadata": {
            "tags": []
          },
          "execution_count": 18
        }
      ]
    },
    {
      "cell_type": "code",
      "metadata": {
        "id": "YxC_2fGf9K1G",
        "colab": {
          "base_uri": "https://localhost:8080/"
        },
        "outputId": "4c0f8801-4f09-4bfb-a080-daf98b3c3f6f"
      },
      "source": [
        "inputs = keras.Input(shape=(224, 224, 3))\n",
        "x = mobilenet(inputs, training=False)\n",
        "x=tf.keras.layers.Dropout(0.33)(x)\n",
        "x=tf.keras.layers.Dense(32,activation=('relu'))(x)\n",
        "x=tf.keras.layers.Dense(32,activation=('relu'))(x)\n",
        "x=tf.keras.layers.Dropout(0.33)(x)\n",
        "x=tf.keras.layers.Dense(64,activation=('relu'))(x)\n",
        "x=tf.keras.layers.Dense(64,activation=('relu'))(x)\n",
        "x=tf.keras.layers.Dropout(0.5)(x)\n",
        "x=tf.keras.layers.Dense(128,activation=('relu'))(x)\n",
        "x=tf.keras.layers.Dense(128,activation=('relu'))(x)\n",
        "x=tf.keras.layers.Dropout(0.33)(x)\n",
        "x = keras.layers.GlobalAveragePooling2D()(x)\n",
        "outputs = keras.layers.Dense(5)(x)\n",
        "model = keras.Model(inputs, outputs)\n",
        "model.summary()"
      ],
      "execution_count": 19,
      "outputs": [
        {
          "output_type": "stream",
          "text": [
            "Model: \"model\"\n",
            "_________________________________________________________________\n",
            "Layer (type)                 Output Shape              Param #   \n",
            "=================================================================\n",
            "input_2 (InputLayer)         [(None, 224, 224, 3)]     0         \n",
            "_________________________________________________________________\n",
            "mobilenetv2_1.00_224 (Functi (None, 7, 7, 1280)        2257984   \n",
            "_________________________________________________________________\n",
            "dropout (Dropout)            (None, 7, 7, 1280)        0         \n",
            "_________________________________________________________________\n",
            "dense (Dense)                (None, 7, 7, 32)          40992     \n",
            "_________________________________________________________________\n",
            "dense_1 (Dense)              (None, 7, 7, 32)          1056      \n",
            "_________________________________________________________________\n",
            "dropout_1 (Dropout)          (None, 7, 7, 32)          0         \n",
            "_________________________________________________________________\n",
            "dense_2 (Dense)              (None, 7, 7, 64)          2112      \n",
            "_________________________________________________________________\n",
            "dense_3 (Dense)              (None, 7, 7, 64)          4160      \n",
            "_________________________________________________________________\n",
            "dropout_2 (Dropout)          (None, 7, 7, 64)          0         \n",
            "_________________________________________________________________\n",
            "dense_4 (Dense)              (None, 7, 7, 128)         8320      \n",
            "_________________________________________________________________\n",
            "dense_5 (Dense)              (None, 7, 7, 128)         16512     \n",
            "_________________________________________________________________\n",
            "dropout_3 (Dropout)          (None, 7, 7, 128)         0         \n",
            "_________________________________________________________________\n",
            "global_average_pooling2d (Gl (None, 128)               0         \n",
            "_________________________________________________________________\n",
            "dense_6 (Dense)              (None, 5)                 645       \n",
            "=================================================================\n",
            "Total params: 2,331,781\n",
            "Trainable params: 1,698,693\n",
            "Non-trainable params: 633,088\n",
            "_________________________________________________________________\n"
          ],
          "name": "stdout"
        }
      ]
    },
    {
      "cell_type": "code",
      "metadata": {
        "id": "o7fYTSC59NmO"
      },
      "source": [
        " model.compile(\n",
        "  optimizer=tf.keras.optimizers.Adam(learning_rate=0.00001),\n",
        "  loss=tf.keras.losses.CategoricalCrossentropy(from_logits=True),\n",
        "  metrics=['accuracy'])"
      ],
      "execution_count": 20,
      "outputs": []
    },
    {
      "cell_type": "code",
      "metadata": {
        "colab": {
          "base_uri": "https://localhost:8080/"
        },
        "id": "FSgrsLKYzyfu",
        "outputId": "11dffc6d-83e1-4189-a191-cfb39f915872"
      },
      "source": [
        "H = model.fit(X_train_scaled,y_train,validation_data=(X_test_scaled,y_test), epochs=50)"
      ],
      "execution_count": 21,
      "outputs": [
        {
          "output_type": "stream",
          "text": [
            "Epoch 1/50\n",
            "116/116 [==============================] - 28s 136ms/step - loss: 1.5889 - accuracy: 0.2447 - val_loss: 1.5056 - val_accuracy: 0.3650\n",
            "Epoch 2/50\n",
            "116/116 [==============================] - 12s 107ms/step - loss: 1.3613 - accuracy: 0.4582 - val_loss: 1.0067 - val_accuracy: 0.5945\n",
            "Epoch 3/50\n",
            "116/116 [==============================] - 12s 106ms/step - loss: 0.9372 - accuracy: 0.6559 - val_loss: 0.7010 - val_accuracy: 0.7526\n",
            "Epoch 4/50\n",
            "116/116 [==============================] - 12s 106ms/step - loss: 0.7230 - accuracy: 0.7480 - val_loss: 0.6390 - val_accuracy: 0.7899\n",
            "Epoch 5/50\n",
            "116/116 [==============================] - 12s 105ms/step - loss: 0.5939 - accuracy: 0.7913 - val_loss: 0.5563 - val_accuracy: 0.8070\n",
            "Epoch 6/50\n",
            "116/116 [==============================] - 12s 105ms/step - loss: 0.4935 - accuracy: 0.8354 - val_loss: 0.4569 - val_accuracy: 0.8459\n",
            "Epoch 7/50\n",
            "116/116 [==============================] - 12s 106ms/step - loss: 0.4246 - accuracy: 0.8600 - val_loss: 0.4285 - val_accuracy: 0.8556\n",
            "Epoch 8/50\n",
            "116/116 [==============================] - 12s 105ms/step - loss: 0.3867 - accuracy: 0.8743 - val_loss: 0.4202 - val_accuracy: 0.8670\n",
            "Epoch 9/50\n",
            "116/116 [==============================] - 12s 105ms/step - loss: 0.3314 - accuracy: 0.8919 - val_loss: 0.3797 - val_accuracy: 0.8816\n",
            "Epoch 10/50\n",
            "116/116 [==============================] - 12s 106ms/step - loss: 0.2891 - accuracy: 0.9089 - val_loss: 0.3834 - val_accuracy: 0.8751\n",
            "Epoch 11/50\n",
            "116/116 [==============================] - 12s 105ms/step - loss: 0.2682 - accuracy: 0.9116 - val_loss: 0.4670 - val_accuracy: 0.8548\n",
            "Epoch 12/50\n",
            "116/116 [==============================] - 12s 106ms/step - loss: 0.2375 - accuracy: 0.9219 - val_loss: 0.3337 - val_accuracy: 0.8938\n",
            "Epoch 13/50\n",
            "116/116 [==============================] - 12s 106ms/step - loss: 0.2142 - accuracy: 0.9303 - val_loss: 0.3353 - val_accuracy: 0.8929\n",
            "Epoch 14/50\n",
            "116/116 [==============================] - 12s 105ms/step - loss: 0.1845 - accuracy: 0.9432 - val_loss: 0.3484 - val_accuracy: 0.8970\n",
            "Epoch 15/50\n",
            "116/116 [==============================] - 12s 106ms/step - loss: 0.1703 - accuracy: 0.9486 - val_loss: 0.3982 - val_accuracy: 0.8775\n",
            "Epoch 16/50\n",
            "116/116 [==============================] - 12s 106ms/step - loss: 0.1537 - accuracy: 0.9543 - val_loss: 0.3364 - val_accuracy: 0.8994\n",
            "Epoch 17/50\n",
            "116/116 [==============================] - 12s 106ms/step - loss: 0.1332 - accuracy: 0.9597 - val_loss: 0.3710 - val_accuracy: 0.8921\n",
            "Epoch 18/50\n",
            "116/116 [==============================] - 12s 106ms/step - loss: 0.1166 - accuracy: 0.9635 - val_loss: 0.3710 - val_accuracy: 0.8970\n",
            "Epoch 19/50\n",
            "116/116 [==============================] - 12s 106ms/step - loss: 0.1107 - accuracy: 0.9667 - val_loss: 0.3400 - val_accuracy: 0.9067\n",
            "Epoch 20/50\n",
            "116/116 [==============================] - 12s 107ms/step - loss: 0.0949 - accuracy: 0.9727 - val_loss: 0.3418 - val_accuracy: 0.9059\n",
            "Epoch 21/50\n",
            "116/116 [==============================] - 13s 108ms/step - loss: 0.0884 - accuracy: 0.9778 - val_loss: 0.3607 - val_accuracy: 0.9011\n",
            "Epoch 22/50\n",
            "116/116 [==============================] - 12s 105ms/step - loss: 0.0832 - accuracy: 0.9751 - val_loss: 0.3478 - val_accuracy: 0.9043\n",
            "Epoch 23/50\n",
            "116/116 [==============================] - 12s 105ms/step - loss: 0.0665 - accuracy: 0.9824 - val_loss: 0.3365 - val_accuracy: 0.9100\n",
            "Epoch 24/50\n",
            "116/116 [==============================] - 12s 105ms/step - loss: 0.0585 - accuracy: 0.9859 - val_loss: 0.3502 - val_accuracy: 0.9059\n",
            "Epoch 25/50\n",
            "116/116 [==============================] - 12s 105ms/step - loss: 0.0551 - accuracy: 0.9876 - val_loss: 0.3429 - val_accuracy: 0.9140\n",
            "Epoch 26/50\n",
            "116/116 [==============================] - 12s 105ms/step - loss: 0.0455 - accuracy: 0.9905 - val_loss: 0.3698 - val_accuracy: 0.9092\n",
            "Epoch 27/50\n",
            "116/116 [==============================] - 12s 105ms/step - loss: 0.0398 - accuracy: 0.9913 - val_loss: 0.3770 - val_accuracy: 0.9108\n",
            "Epoch 28/50\n",
            "116/116 [==============================] - 12s 105ms/step - loss: 0.0360 - accuracy: 0.9924 - val_loss: 0.3831 - val_accuracy: 0.9067\n",
            "Epoch 29/50\n",
            "116/116 [==============================] - 12s 105ms/step - loss: 0.0350 - accuracy: 0.9927 - val_loss: 0.4683 - val_accuracy: 0.8978\n",
            "Epoch 30/50\n",
            "116/116 [==============================] - 12s 106ms/step - loss: 0.0271 - accuracy: 0.9949 - val_loss: 0.3809 - val_accuracy: 0.9132\n",
            "Epoch 31/50\n",
            "116/116 [==============================] - 12s 105ms/step - loss: 0.0270 - accuracy: 0.9946 - val_loss: 0.3928 - val_accuracy: 0.9116\n",
            "Epoch 32/50\n",
            "116/116 [==============================] - 12s 106ms/step - loss: 0.0223 - accuracy: 0.9968 - val_loss: 0.4129 - val_accuracy: 0.9067\n",
            "Epoch 33/50\n",
            "116/116 [==============================] - 12s 106ms/step - loss: 0.0217 - accuracy: 0.9962 - val_loss: 0.4058 - val_accuracy: 0.9108\n",
            "Epoch 34/50\n",
            "116/116 [==============================] - 12s 105ms/step - loss: 0.0167 - accuracy: 0.9976 - val_loss: 0.4210 - val_accuracy: 0.9108\n",
            "Epoch 35/50\n",
            "116/116 [==============================] - 12s 105ms/step - loss: 0.0153 - accuracy: 0.9981 - val_loss: 0.4087 - val_accuracy: 0.9148\n",
            "Epoch 36/50\n",
            "116/116 [==============================] - 12s 105ms/step - loss: 0.0150 - accuracy: 0.9978 - val_loss: 0.4180 - val_accuracy: 0.9124\n",
            "Epoch 37/50\n",
            "116/116 [==============================] - 12s 105ms/step - loss: 0.0134 - accuracy: 0.9968 - val_loss: 0.4344 - val_accuracy: 0.9124\n",
            "Epoch 38/50\n",
            "116/116 [==============================] - 12s 105ms/step - loss: 0.0122 - accuracy: 0.9978 - val_loss: 0.4600 - val_accuracy: 0.9084\n",
            "Epoch 39/50\n",
            "116/116 [==============================] - 12s 105ms/step - loss: 0.0162 - accuracy: 0.9965 - val_loss: 0.4456 - val_accuracy: 0.9084\n",
            "Epoch 40/50\n",
            "116/116 [==============================] - 12s 105ms/step - loss: 0.0110 - accuracy: 0.9984 - val_loss: 0.4510 - val_accuracy: 0.9092\n",
            "Epoch 41/50\n",
            "116/116 [==============================] - 12s 107ms/step - loss: 0.0080 - accuracy: 0.9992 - val_loss: 0.5019 - val_accuracy: 0.9019\n",
            "Epoch 42/50\n",
            "116/116 [==============================] - 12s 106ms/step - loss: 0.0111 - accuracy: 0.9984 - val_loss: 0.5051 - val_accuracy: 0.9075\n",
            "Epoch 43/50\n",
            "116/116 [==============================] - 12s 105ms/step - loss: 0.0108 - accuracy: 0.9978 - val_loss: 0.4482 - val_accuracy: 0.9100\n",
            "Epoch 44/50\n",
            "116/116 [==============================] - 12s 105ms/step - loss: 0.0211 - accuracy: 0.9946 - val_loss: 0.4706 - val_accuracy: 0.9108\n",
            "Epoch 45/50\n",
            "116/116 [==============================] - 12s 106ms/step - loss: 0.0067 - accuracy: 0.9989 - val_loss: 0.4611 - val_accuracy: 0.9132\n",
            "Epoch 46/50\n",
            "116/116 [==============================] - 12s 106ms/step - loss: 0.0064 - accuracy: 0.9992 - val_loss: 0.4738 - val_accuracy: 0.9116\n",
            "Epoch 47/50\n",
            "116/116 [==============================] - 12s 106ms/step - loss: 0.0067 - accuracy: 0.9986 - val_loss: 0.4653 - val_accuracy: 0.9157\n",
            "Epoch 48/50\n",
            "116/116 [==============================] - 12s 106ms/step - loss: 0.0050 - accuracy: 0.9989 - val_loss: 0.4794 - val_accuracy: 0.9092\n",
            "Epoch 49/50\n",
            "116/116 [==============================] - 12s 106ms/step - loss: 0.0059 - accuracy: 0.9989 - val_loss: 0.4922 - val_accuracy: 0.9059\n",
            "Epoch 50/50\n",
            "116/116 [==============================] - 12s 105ms/step - loss: 0.0039 - accuracy: 0.9997 - val_loss: 0.4886 - val_accuracy: 0.9132\n"
          ],
          "name": "stdout"
        }
      ]
    },
    {
      "cell_type": "code",
      "metadata": {
        "id": "L466coWv9QKe",
        "colab": {
          "base_uri": "https://localhost:8080/"
        },
        "outputId": "1ff5d093-6255-446d-ba22-d68077dd8503"
      },
      "source": [
        "model.evaluate(X_test_scaled,y_test)"
      ],
      "execution_count": 22,
      "outputs": [
        {
          "output_type": "stream",
          "text": [
            "39/39 [==============================] - 3s 63ms/step - loss: 0.4886 - accuracy: 0.9132\n"
          ],
          "name": "stdout"
        },
        {
          "output_type": "execute_result",
          "data": {
            "text/plain": [
              "[0.4886425733566284, 0.9132198095321655]"
            ]
          },
          "metadata": {
            "tags": []
          },
          "execution_count": 22
        }
      ]
    },
    {
      "cell_type": "code",
      "metadata": {
        "id": "q6XaX0Jl9SWG",
        "colab": {
          "base_uri": "https://localhost:8080/",
          "height": 298
        },
        "outputId": "6f9726bc-a387-4be3-dfa0-c9aa8a92a545"
      },
      "source": [
        "from matplotlib import pyplot\n",
        "pyplot.title('Cross Entropy Loss')\n",
        "pyplot.plot(H.history['loss'], color='blue', label='train')\n",
        "pyplot.plot(H.history['val_loss'], color='orange', label='test')"
      ],
      "execution_count": 23,
      "outputs": [
        {
          "output_type": "execute_result",
          "data": {
            "text/plain": [
              "[<matplotlib.lines.Line2D at 0x1bf125af2b0>]"
            ]
          },
          "metadata": {
            "tags": []
          },
          "execution_count": 23
        },
        {
          "output_type": "display_data",
          "data": {
            "text/plain": [
              "<Figure size 432x288 with 1 Axes>"
            ],
            "image/png": "[encoded data removed]"
          },
          "metadata": {
            "tags": [],
            "needs_background": "light"
          }
        }
      ]
    },
    {
      "cell_type": "code",
      "metadata": {
        "id": "B1t6Dof8KtKa"
      },
      "source": [
        ""
      ],
      "execution_count": 23,
      "outputs": []
    },
    {
      "cell_type": "code",
      "metadata": {
        "id": "9FC3mzYiiUF5"
      },
      "source": [
        ""
      ],
      "execution_count": 23,
      "outputs": []
    }
  ]
}