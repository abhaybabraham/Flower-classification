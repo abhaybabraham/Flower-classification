{
  "nbformat": 4,
  "nbformat_minor": 0,
  "metadata": {
    "colab": {
      "name": "Flowers.ipynb",
      "provenance": [],
      "collapsed_sections": []
    },
    "kernelspec": {
      "name": "python3",
      "display_name": "Python 3"
    },
    "language_info": {
      "name": "python"
    }
  },
  "cells": [
    {
      "cell_type": "code",
      "metadata": {
        "id": "nkAWoBiPlONw",
        "colab": {
          "base_uri": "https://localhost:8080/"
        },
        "outputId": "d7493fcc-c21b-4fbd-8f43-0c1359bde0c6"
      },
      "source": [
        "import numpy as np\n",
        "import cv2\n",
        "import PIL.Image as Image\n",
        "import os\n",
        "import PIL\n",
        "import tensorflow as tf\n",
        "import matplotlib.pylab as plt\n",
        "from tensorflow import keras\n",
        "from tensorflow.keras import layers\n",
        "from tensorflow.keras.models import Sequential\n",
        "from keras.utils import to_categorical"
      ],
      "execution_count": 1,
      "outputs": [
        {
          "output_type": "stream",
          "text": [
            "Using TensorFlow backend.\n"
          ],
          "name": "stderr"
        }
      ]
    },
    {
      "cell_type": "code",
      "metadata": {
        "id": "YA8h5Ns50q_A"
      },
      "source": [
        "data_dir = r'C:\\Users\\abhay\\OneDrive\\Desktop\\dataset\\Flowers'"
      ],
      "execution_count": 2,
      "outputs": []
    },
    {
      "cell_type": "code",
      "metadata": {
        "colab": {
          "base_uri": "https://localhost:8080/"
        },
        "id": "kKMkunoJsM0M",
        "outputId": "dbcef22e-5122-45f6-f237-a33fc9af6ccf"
      },
      "source": [
        "import pathlib\n",
        "data_dir = pathlib.Path(data_dir)\n",
        "data_dir"
      ],
      "execution_count": 3,
      "outputs": [
        {
          "output_type": "execute_result",
          "data": {
            "text/plain": [
              "WindowsPath('C:/Users/abhay/OneDrive/Desktop/dataset/Flowers')"
            ]
          },
          "metadata": {
            "tags": []
          },
          "execution_count": 3
        }
      ]
    },
    {
      "cell_type": "code",
      "metadata": {
        "id": "FN9fFa2HsNdR"
      },
      "source": [
        "flowers_images_dict = {\n",
        "    'rose': list(data_dir.glob('rose/*')),\n",
        "    'daisy': list(data_dir.glob('daisy/*')),\n",
        "    'dandelion': list(data_dir.glob('dandelion/*')),\n",
        "    'sunflower': list(data_dir.glob('sunflower/*')),\n",
        "    'tulip': list(data_dir.glob('tulip/*')),\n",
        "}\n",
        "\n",
        "flowers_labels_dict = {\n",
        "    'rose': 0,\n",
        "    'daisy': 1,\n",
        "    'dandelion': 2,\n",
        "    'sunflower': 3,\n",
        "    'tulip': 4,\n",
        "}"
      ],
      "execution_count": 4,
      "outputs": []
    },
    {
      "cell_type": "code",
      "metadata": {
        "id": "C2QkM0FRshF8"
      },
      "source": [
        "X, y = [], []\n",
        "\n",
        "for flower_name, images in flowers_images_dict.items():\n",
        "    for image in images:\n",
        "        img = cv2.imread(str(image))\n",
        "        try:\n",
        "           resized_img = cv2.resize(img,(224,224))\n",
        "        except:\n",
        "            continue\n",
        "        X.append(resized_img)\n",
        "        y.append(flowers_labels_dict[flower_name])"
      ],
      "execution_count": 5,
      "outputs": []
    },
    {
      "cell_type": "code",
      "metadata": {
        "colab": {
          "base_uri": "https://localhost:8080/"
        },
        "id": "CoiCz3LE2mGC",
        "outputId": "fde84a52-ad57-4e32-ce5c-2ccf46a2af1f"
      },
      "source": [
        "print(X[0])"
      ],
      "execution_count": 6,
      "outputs": [
        {
          "output_type": "stream",
          "text": [
            "[[[ 0 15  6]\n",
            "  [ 0 15  6]\n",
            "  [ 0 16  7]\n",
            "  ...\n",
            "  [24 51 31]\n",
            "  [25 52 32]\n",
            "  [26 53 33]]\n",
            "\n",
            " [[ 8 22 14]\n",
            "  [ 8 22 14]\n",
            "  [ 7 21 14]\n",
            "  ...\n",
            "  [21 47 31]\n",
            "  [24 49 34]\n",
            "  [25 51 35]]\n",
            "\n",
            " [[12 22 15]\n",
            "  [12 22 15]\n",
            "  [11 22 14]\n",
            "  ...\n",
            "  [21 43 31]\n",
            "  [24 46 33]\n",
            "  [26 48 36]]\n",
            "\n",
            " ...\n",
            "\n",
            " [[17 29 25]\n",
            "  [14 25 20]\n",
            "  [13 22 15]\n",
            "  ...\n",
            "  [ 2 11  2]\n",
            "  [ 0  7  1]\n",
            "  [ 0  4  0]]\n",
            "\n",
            " [[19 30 28]\n",
            "  [18 28 25]\n",
            "  [16 25 19]\n",
            "  ...\n",
            "  [ 2 10  2]\n",
            "  [ 1  8  2]\n",
            "  [ 0  7  2]]\n",
            "\n",
            " [[ 9 19 19]\n",
            "  [15 23 22]\n",
            "  [19 27 24]\n",
            "  ...\n",
            "  [ 1 11  2]\n",
            "  [ 2 10  3]\n",
            "  [ 3 11  4]]]\n"
          ],
          "name": "stdout"
        }
      ]
    },
    {
      "cell_type": "code",
      "metadata": {
        "id": "oaa5FoaQg6M9",
        "colab": {
          "base_uri": "https://localhost:8080/"
        },
        "outputId": "842006bf-4b18-4054-9ec8-1a877ac1facd"
      },
      "source": [
        "print(len(X))"
      ],
      "execution_count": 7,
      "outputs": [
        {
          "output_type": "stream",
          "text": [
            "4932\n"
          ],
          "name": "stdout"
        }
      ]
    },
    {
      "cell_type": "code",
      "metadata": {
        "id": "NSYGFmnevz94",
        "colab": {
          "base_uri": "https://localhost:8080/"
        },
        "outputId": "7441b51c-ffd7-43f7-db38-6905ec3c878c"
      },
      "source": [
        "flowers_images_dict.keys()"
      ],
      "execution_count": 8,
      "outputs": [
        {
          "output_type": "execute_result",
          "data": {
            "text/plain": [
              "dict_keys(['rose', 'daisy', 'dandelion', 'sunflower', 'tulip'])"
            ]
          },
          "metadata": {
            "tags": []
          },
          "execution_count": 8
        }
      ]
    },
    {
      "cell_type": "code",
      "metadata": {
        "id": "5_O5aiNvvRJi",
        "colab": {
          "base_uri": "https://localhost:8080/"
        },
        "outputId": "c12f7bdc-8014-4e58-e0fb-34d1e6e51d6e"
      },
      "source": [
        "print(y)"
      ],
      "execution_count": 9,
      "outputs": [
        {
          "output_type": "stream",
          "text": [
            "[0, 0, 0, 0, 0, 0, 0, 0, 0, 0, 0, 0, 0, 0, 0, 0, 0, 0, 0, 0, 0, 0, 0, 0, 0, 0, 0, 0, 0, 0, 0, 0, 0, 0, 0, 0, 0, 0, 0, 0, 0, 0, 0, 0, 0, 0, 0, 0, 0, 0, 0, 0, 0, 0, 0, 0, 0, 0, 0, 0, 0, 0, 0, 0, 0, 0, 0, 0, 0, 0, 0, 0, 0, 0, 0, 0, 0, 0, 0, 0, 0, 0, 0, 0, 0, 0, 0, 0, 0, 0, 0, 0, 0, 0, 0, 0, 0, 0, 0, 0, 0, 0, 0, 0, 0, 0, 0, 0, 0, 0, 0, 0, 0, 0, 0, 0, 0, 0, 0, 0, 0, 0, 0, 0, 0, 0, 0, 0, 0, 0, 0, 0, 0, 0, 0, 0, 0, 0, 0, 0, 0, 0, 0, 0, 0, 0, 0, 0, 0, 0, 0, 0, 0, 0, 0, 0, 0, 0, 0, 0, 0, 0, 0, 0, 0, 0, 0, 0, 0, 0, 0, 0, 0, 0, 0, 0, 0, 0, 0, 0, 0, 0, 0, 0, 0, 0, 0, 0, 0, 0, 0, 0, 0, 0, 0, 0, 0, 0, 0, 0, 0, 0, 0, 0, 0, 0, 0, 0, 0, 0, 0, 0, 0, 0, 0, 0, 0, 0, 0, 0, 0, 0, 0, 0, 0, 0, 0, 0, 0, 0, 0, 0, 0, 0, 0, 0, 0, 0, 0, 0, 0, 0, 0, 0, 0, 0, 0, 0, 0, 0, 0, 0, 0, 0, 0, 0, 0, 0, 0, 0, 0, 0, 0, 0, 0, 0, 0, 0, 0, 0, 0, 0, 0, 0, 0, 0, 0, 0, 0, 0, 0, 0, 0, 0, 0, 0, 0, 0, 0, 0, 0, 0, 0, 0, 0, 0, 0, 0, 0, 0, 0, 0, 0, 0, 0, 0, 0, 0, 0, 0, 0, 0, 0, 0, 0, 0, 0, 0, 0, 0, 0, 0, 0, 0, 0, 0, 0, 0, 0, 0, 0, 0, 0, 0, 0, 0, 0, 0, 0, 0, 0, 0, 0, 0, 0, 0, 0, 0, 0, 0, 0, 0, 0, 0, 0, 0, 0, 0, 0, 0, 0, 0, 0, 0, 0, 0, 0, 0, 0, 0, 0, 0, 0, 0, 0, 0, 0, 0, 0, 0, 0, 0, 0, 0, 0, 0, 0, 0, 0, 0, 0, 0, 0, 0, 0, 0, 0, 0, 0, 0, 0, 0, 0, 0, 0, 0, 0, 0, 0, 0, 0, 0, 0, 0, 0, 0, 0, 0, 0, 0, 0, 0, 0, 0, 0, 0, 0, 0, 0, 0, 0, 0, 0, 0, 0, 0, 0, 0, 0, 0, 0, 0, 0, 0, 0, 0, 0, 0, 0, 0, 0, 0, 0, 0, 0, 0, 0, 0, 0, 0, 0, 0, 0, 0, 0, 0, 0, 0, 0, 0, 0, 0, 0, 0, 0, 0, 0, 0, 0, 0, 0, 0, 0, 0, 0, 0, 0, 0, 0, 0, 0, 0, 0, 0, 0, 0, 0, 0, 0, 0, 0, 0, 0, 0, 0, 0, 0, 0, 0, 0, 0, 0, 0, 0, 0, 0, 0, 0, 0, 0, 0, 0, 0, 0, 0, 0, 0, 0, 0, 0, 0, 0, 0, 0, 0, 0, 0, 0, 0, 0, 0, 0, 0, 0, 0, 0, 0, 0, 0, 0, 0, 0, 0, 0, 0, 0, 0, 0, 0, 0, 0, 0, 0, 0, 0, 0, 0, 0, 0, 0, 0, 0, 0, 0, 0, 0, 0, 0, 0, 0, 0, 0, 0, 0, 0, 0, 0, 0, 0, 0, 0, 0, 0, 0, 0, 0, 0, 0, 0, 0, 0, 0, 0, 0, 0, 0, 0, 0, 0, 0, 0, 0, 0, 0, 0, 0, 0, 0, 0, 0, 0, 0, 0, 0, 0, 0, 0, 0, 0, 0, 0, 0, 0, 0, 0, 0, 0, 0, 0, 0, 0, 0, 0, 0, 0, 0, 0, 0, 0, 0, 0, 0, 0, 0, 0, 0, 0, 0, 0, 0, 0, 0, 0, 0, 0, 0, 0, 0, 0, 0, 0, 0, 0, 0, 0, 0, 0, 0, 0, 0, 0, 0, 0, 0, 0, 0, 0, 0, 0, 0, 0, 0, 0, 0, 0, 0, 0, 0, 0, 0, 0, 0, 0, 0, 0, 0, 0, 0, 0, 0, 0, 0, 0, 0, 0, 0, 0, 0, 0, 0, 0, 0, 0, 0, 0, 0, 0, 0, 0, 0, 0, 0, 0, 0, 0, 0, 0, 0, 0, 0, 0, 0, 0, 0, 0, 0, 0, 0, 0, 0, 0, 0, 0, 0, 0, 0, 0, 0, 0, 0, 0, 0, 0, 0, 0, 0, 0, 0, 0, 0, 0, 0, 0, 0, 0, 0, 0, 0, 0, 0, 0, 0, 0, 0, 0, 0, 0, 0, 0, 0, 0, 0, 0, 0, 0, 0, 0, 0, 0, 0, 0, 0, 0, 0, 0, 0, 0, 0, 0, 0, 0, 0, 0, 0, 0, 0, 0, 0, 0, 0, 0, 0, 0, 0, 0, 0, 0, 0, 0, 0, 0, 0, 0, 0, 0, 0, 0, 0, 0, 0, 0, 0, 0, 0, 0, 0, 0, 0, 0, 0, 0, 0, 0, 0, 0, 0, 0, 0, 0, 0, 0, 0, 0, 0, 0, 0, 0, 0, 0, 0, 0, 0, 0, 0, 0, 0, 0, 0, 0, 0, 0, 0, 0, 0, 0, 0, 0, 0, 0, 0, 0, 0, 0, 0, 0, 0, 0, 0, 0, 0, 0, 0, 0, 0, 0, 0, 0, 0, 0, 0, 0, 0, 0, 0, 0, 0, 0, 0, 0, 0, 0, 0, 0, 0, 0, 0, 0, 0, 0, 0, 0, 0, 0, 0, 0, 0, 0, 0, 0, 0, 0, 0, 0, 0, 0, 0, 0, 0, 0, 0, 0, 0, 0, 0, 0, 1, 1, 1, 1, 1, 1, 1, 1, 1, 1, 1, 1, 1, 1, 1, 1, 1, 1, 1, 1, 1, 1, 1, 1, 1, 1, 1, 1, 1, 1, 1, 1, 1, 1, 1, 1, 1, 1, 1, 1, 1, 1, 1, 1, 1, 1, 1, 1, 1, 1, 1, 1, 1, 1, 1, 1, 1, 1, 1, 1, 1, 1, 1, 1, 1, 1, 1, 1, 1, 1, 1, 1, 1, 1, 1, 1, 1, 1, 1, 1, 1, 1, 1, 1, 1, 1, 1, 1, 1, 1, 1, 1, 1, 1, 1, 1, 1, 1, 1, 1, 1, 1, 1, 1, 1, 1, 1, 1, 1, 1, 1, 1, 1, 1, 1, 1, 1, 1, 1, 1, 1, 1, 1, 1, 1, 1, 1, 1, 1, 1, 1, 1, 1, 1, 1, 1, 1, 1, 1, 1, 1, 1, 1, 1, 1, 1, 1, 1, 1, 1, 1, 1, 1, 1, 1, 1, 1, 1, 1, 1, 1, 1, 1, 1, 1, 1, 1, 1, 1, 1, 1, 1, 1, 1, 1, 1, 1, 1, 1, 1, 1, 1, 1, 1, 1, 1, 1, 1, 1, 1, 1, 1, 1, 1, 1, 1, 1, 1, 1, 1, 1, 1, 1, 1, 1, 1, 1, 1, 1, 1, 1, 1, 1, 1, 1, 1, 1, 1, 1, 1, 1, 1, 1, 1, 1, 1, 1, 1, 1, 1, 1, 1, 1, 1, 1, 1, 1, 1, 1, 1, 1, 1, 1, 1, 1, 1, 1, 1, 1, 1, 1, 1, 1, 1, 1, 1, 1, 1, 1, 1, 1, 1, 1, 1, 1, 1, 1, 1, 1, 1, 1, 1, 1, 1, 1, 1, 1, 1, 1, 1, 1, 1, 1, 1, 1, 1, 1, 1, 1, 1, 1, 1, 1, 1, 1, 1, 1, 1, 1, 1, 1, 1, 1, 1, 1, 1, 1, 1, 1, 1, 1, 1, 1, 1, 1, 1, 1, 1, 1, 1, 1, 1, 1, 1, 1, 1, 1, 1, 1, 1, 1, 1, 1, 1, 1, 1, 1, 1, 1, 1, 1, 1, 1, 1, 1, 1, 1, 1, 1, 1, 1, 1, 1, 1, 1, 1, 1, 1, 1, 1, 1, 1, 1, 1, 1, 1, 1, 1, 1, 1, 1, 1, 1, 1, 1, 1, 1, 1, 1, 1, 1, 1, 1, 1, 1, 1, 1, 1, 1, 1, 1, 1, 1, 1, 1, 1, 1, 1, 1, 1, 1, 1, 1, 1, 1, 1, 1, 1, 1, 1, 1, 1, 1, 1, 1, 1, 1, 1, 1, 1, 1, 1, 1, 1, 1, 1, 1, 1, 1, 1, 1, 1, 1, 1, 1, 1, 1, 1, 1, 1, 1, 1, 1, 1, 1, 1, 1, 1, 1, 1, 1, 1, 1, 1, 1, 1, 1, 1, 1, 1, 1, 1, 1, 1, 1, 1, 1, 1, 1, 1, 1, 1, 1, 1, 1, 1, 1, 1, 1, 1, 1, 1, 1, 1, 1, 1, 1, 1, 1, 1, 1, 1, 1, 1, 1, 1, 1, 1, 1, 1, 1, 1, 1, 1, 1, 1, 1, 1, 1, 1, 1, 1, 1, 1, 1, 1, 1, 1, 1, 1, 1, 1, 1, 1, 1, 1, 1, 1, 1, 1, 1, 1, 1, 1, 1, 1, 1, 1, 1, 1, 1, 1, 1, 1, 1, 1, 1, 1, 1, 1, 1, 1, 1, 1, 1, 1, 1, 1, 1, 1, 1, 1, 1, 1, 1, 1, 1, 1, 1, 1, 1, 1, 1, 1, 1, 1, 1, 1, 1, 1, 1, 1, 1, 1, 1, 1, 1, 1, 1, 1, 1, 1, 1, 1, 1, 1, 1, 1, 1, 1, 1, 1, 1, 1, 1, 1, 1, 1, 1, 1, 1, 1, 1, 1, 1, 1, 1, 1, 1, 1, 1, 1, 1, 1, 1, 1, 1, 1, 1, 1, 1, 1, 1, 1, 1, 1, 1, 1, 1, 1, 1, 1, 1, 1, 1, 1, 1, 1, 1, 1, 1, 1, 1, 1, 1, 1, 1, 1, 1, 1, 1, 1, 1, 1, 1, 1, 1, 1, 1, 1, 1, 1, 1, 1, 1, 1, 1, 1, 1, 1, 1, 1, 1, 1, 1, 1, 1, 1, 1, 1, 1, 1, 1, 1, 1, 1, 1, 1, 1, 1, 1, 1, 1, 1, 1, 1, 1, 1, 1, 1, 1, 1, 1, 1, 1, 1, 1, 1, 1, 1, 1, 1, 1, 1, 1, 1, 1, 1, 1, 1, 1, 1, 1, 1, 1, 1, 1, 1, 1, 1, 1, 1, 1, 1, 1, 1, 1, 1, 1, 1, 1, 1, 1, 1, 1, 1, 1, 1, 1, 1, 1, 1, 1, 1, 1, 1, 1, 1, 1, 1, 1, 1, 1, 1, 1, 1, 1, 1, 1, 1, 1, 1, 1, 1, 1, 1, 1, 1, 1, 1, 1, 1, 1, 1, 1, 1, 1, 1, 1, 1, 1, 1, 1, 1, 1, 1, 1, 1, 1, 1, 1, 1, 1, 1, 1, 1, 1, 1, 1, 1, 1, 1, 1, 1, 1, 1, 1, 1, 1, 1, 1, 1, 1, 1, 1, 1, 1, 1, 1, 1, 1, 1, 1, 1, 1, 1, 1, 1, 1, 1, 1, 1, 1, 1, 1, 1, 1, 1, 1, 1, 1, 1, 1, 1, 1, 1, 1, 1, 1, 1, 1, 1, 1, 1, 1, 1, 1, 1, 1, 1, 1, 1, 1, 1, 1, 1, 1, 1, 1, 1, 1, 1, 1, 1, 1, 1, 1, 1, 1, 1, 1, 1, 1, 1, 1, 1, 1, 1, 1, 1, 1, 1, 1, 1, 1, 1, 1, 1, 1, 1, 1, 1, 1, 1, 1, 1, 1, 1, 1, 1, 1, 1, 1, 1, 1, 1, 1, 1, 1, 1, 1, 1, 1, 1, 2, 2, 2, 2, 2, 2, 2, 2, 2, 2, 2, 2, 2, 2, 2, 2, 2, 2, 2, 2, 2, 2, 2, 2, 2, 2, 2, 2, 2, 2, 2, 2, 2, 2, 2, 2, 2, 2, 2, 2, 2, 2, 2, 2, 2, 2, 2, 2, 2, 2, 2, 2, 2, 2, 2, 2, 2, 2, 2, 2, 2, 2, 2, 2, 2, 2, 2, 2, 2, 2, 2, 2, 2, 2, 2, 2, 2, 2, 2, 2, 2, 2, 2, 2, 2, 2, 2, 2, 2, 2, 2, 2, 2, 2, 2, 2, 2, 2, 2, 2, 2, 2, 2, 2, 2, 2, 2, 2, 2, 2, 2, 2, 2, 2, 2, 2, 2, 2, 2, 2, 2, 2, 2, 2, 2, 2, 2, 2, 2, 2, 2, 2, 2, 2, 2, 2, 2, 2, 2, 2, 2, 2, 2, 2, 2, 2, 2, 2, 2, 2, 2, 2, 2, 2, 2, 2, 2, 2, 2, 2, 2, 2, 2, 2, 2, 2, 2, 2, 2, 2, 2, 2, 2, 2, 2, 2, 2, 2, 2, 2, 2, 2, 2, 2, 2, 2, 2, 2, 2, 2, 2, 2, 2, 2, 2, 2, 2, 2, 2, 2, 2, 2, 2, 2, 2, 2, 2, 2, 2, 2, 2, 2, 2, 2, 2, 2, 2, 2, 2, 2, 2, 2, 2, 2, 2, 2, 2, 2, 2, 2, 2, 2, 2, 2, 2, 2, 2, 2, 2, 2, 2, 2, 2, 2, 2, 2, 2, 2, 2, 2, 2, 2, 2, 2, 2, 2, 2, 2, 2, 2, 2, 2, 2, 2, 2, 2, 2, 2, 2, 2, 2, 2, 2, 2, 2, 2, 2, 2, 2, 2, 2, 2, 2, 2, 2, 2, 2, 2, 2, 2, 2, 2, 2, 2, 2, 2, 2, 2, 2, 2, 2, 2, 2, 2, 2, 2, 2, 2, 2, 2, 2, 2, 2, 2, 2, 2, 2, 2, 2, 2, 2, 2, 2, 2, 2, 2, 2, 2, 2, 2, 2, 2, 2, 2, 2, 2, 2, 2, 2, 2, 2, 2, 2, 2, 2, 2, 2, 2, 2, 2, 2, 2, 2, 2, 2, 2, 2, 2, 2, 2, 2, 2, 2, 2, 2, 2, 2, 2, 2, 2, 2, 2, 2, 2, 2, 2, 2, 2, 2, 2, 2, 2, 2, 2, 2, 2, 2, 2, 2, 2, 2, 2, 2, 2, 2, 2, 2, 2, 2, 2, 2, 2, 2, 2, 2, 2, 2, 2, 2, 2, 2, 2, 2, 2, 2, 2, 2, 2, 2, 2, 2, 2, 2, 2, 2, 2, 2, 2, 2, 2, 2, 2, 2, 2, 2, 2, 2, 2, 2, 2, 2, 2, 2, 2, 2, 2, 2, 2, 2, 2, 2, 2, 2, 2, 2, 2, 2, 2, 2, 2, 2, 2, 2, 2, 2, 2, 2, 2, 2, 2, 2, 2, 2, 2, 2, 2, 2, 2, 2, 2, 2, 2, 2, 2, 2, 2, 2, 2, 2, 2, 2, 2, 2, 2, 2, 2, 2, 2, 2, 2, 2, 2, 2, 2, 2, 2, 2, 2, 2, 2, 2, 2, 2, 2, 2, 2, 2, 2, 2, 2, 2, 2, 2, 2, 2, 2, 2, 2, 2, 2, 2, 2, 2, 2, 2, 2, 2, 2, 2, 2, 2, 2, 2, 2, 2, 2, 2, 2, 2, 2, 2, 2, 2, 2, 2, 2, 2, 2, 2, 2, 2, 2, 2, 2, 2, 2, 2, 2, 2, 2, 2, 2, 2, 2, 2, 2, 2, 2, 2, 2, 2, 2, 2, 2, 2, 2, 2, 2, 2, 2, 2, 2, 2, 2, 2, 2, 2, 2, 2, 2, 2, 2, 2, 2, 2, 2, 2, 2, 2, 2, 2, 2, 2, 2, 2, 2, 2, 2, 2, 2, 2, 2, 2, 2, 2, 2, 2, 2, 2, 2, 2, 2, 2, 2, 2, 2, 2, 2, 2, 2, 2, 2, 2, 2, 2, 2, 2, 2, 2, 2, 2, 2, 2, 2, 2, 2, 2, 2, 2, 2, 2, 2, 2, 2, 2, 2, 2, 2, 2, 2, 2, 2, 2, 2, 2, 2, 2, 2, 2, 2, 2, 2, 2, 2, 2, 2, 2, 2, 2, 2, 2, 2, 2, 2, 2, 2, 2, 2, 2, 2, 2, 2, 2, 2, 2, 2, 2, 2, 2, 2, 2, 2, 2, 2, 2, 2, 2, 2, 2, 2, 2, 2, 2, 2, 2, 2, 2, 2, 2, 2, 2, 2, 2, 2, 2, 2, 2, 2, 2, 2, 2, 2, 2, 2, 2, 2, 2, 2, 2, 2, 2, 2, 2, 2, 2, 2, 2, 2, 2, 2, 2, 2, 2, 2, 2, 2, 2, 2, 2, 2, 2, 2, 2, 2, 2, 2, 2, 2, 2, 2, 2, 2, 2, 2, 2, 2, 2, 2, 2, 2, 2, 2, 2, 2, 2, 2, 2, 2, 2, 2, 2, 2, 2, 2, 2, 2, 2, 2, 2, 2, 2, 2, 2, 2, 2, 2, 2, 2, 2, 2, 2, 2, 2, 2, 2, 2, 2, 2, 2, 2, 2, 2, 2, 2, 2, 2, 2, 2, 2, 2, 2, 2, 2, 2, 2, 2, 2, 2, 2, 2, 2, 2, 2, 2, 2, 2, 2, 2, 2, 2, 2, 2, 2, 2, 2, 2, 2, 2, 2, 2, 2, 2, 2, 2, 2, 2, 2, 2, 2, 2, 2, 2, 2, 2, 2, 2, 2, 2, 2, 2, 2, 2, 2, 2, 2, 2, 2, 2, 2, 2, 2, 2, 2, 2, 2, 2, 2, 2, 2, 2, 2, 2, 2, 2, 2, 2, 2, 2, 2, 2, 2, 2, 2, 2, 2, 2, 2, 2, 2, 2, 2, 2, 2, 2, 2, 2, 2, 2, 2, 2, 2, 2, 2, 2, 2, 2, 2, 2, 2, 2, 2, 2, 2, 2, 2, 2, 2, 2, 2, 2, 2, 2, 2, 2, 2, 2, 2, 2, 2, 2, 2, 2, 2, 2, 2, 2, 2, 2, 2, 2, 2, 2, 2, 2, 2, 2, 2, 2, 2, 2, 2, 2, 2, 2, 2, 2, 2, 2, 2, 2, 2, 2, 2, 2, 2, 2, 2, 2, 2, 2, 2, 2, 2, 2, 2, 2, 2, 2, 2, 2, 2, 2, 2, 2, 2, 2, 2, 2, 2, 2, 2, 2, 2, 2, 2, 2, 2, 2, 2, 2, 2, 2, 2, 2, 2, 2, 2, 2, 2, 2, 2, 2, 2, 2, 2, 2, 2, 2, 2, 2, 2, 2, 2, 2, 2, 2, 2, 2, 2, 2, 2, 2, 2, 2, 2, 2, 2, 2, 2, 2, 2, 2, 2, 2, 2, 2, 2, 2, 2, 2, 2, 2, 2, 2, 2, 2, 2, 2, 2, 2, 2, 3, 3, 3, 3, 3, 3, 3, 3, 3, 3, 3, 3, 3, 3, 3, 3, 3, 3, 3, 3, 3, 3, 3, 3, 3, 3, 3, 3, 3, 3, 3, 3, 3, 3, 3, 3, 3, 3, 3, 3, 3, 3, 3, 3, 3, 3, 3, 3, 3, 3, 3, 3, 3, 3, 3, 3, 3, 3, 3, 3, 3, 3, 3, 3, 3, 3, 3, 3, 3, 3, 3, 3, 3, 3, 3, 3, 3, 3, 3, 3, 3, 3, 3, 3, 3, 3, 3, 3, 3, 3, 3, 3, 3, 3, 3, 3, 3, 3, 3, 3, 3, 3, 3, 3, 3, 3, 3, 3, 3, 3, 3, 3, 3, 3, 3, 3, 3, 3, 3, 3, 3, 3, 3, 3, 3, 3, 3, 3, 3, 3, 3, 3, 3, 3, 3, 3, 3, 3, 3, 3, 3, 3, 3, 3, 3, 3, 3, 3, 3, 3, 3, 3, 3, 3, 3, 3, 3, 3, 3, 3, 3, 3, 3, 3, 3, 3, 3, 3, 3, 3, 3, 3, 3, 3, 3, 3, 3, 3, 3, 3, 3, 3, 3, 3, 3, 3, 3, 3, 3, 3, 3, 3, 3, 3, 3, 3, 3, 3, 3, 3, 3, 3, 3, 3, 3, 3, 3, 3, 3, 3, 3, 3, 3, 3, 3, 3, 3, 3, 3, 3, 3, 3, 3, 3, 3, 3, 3, 3, 3, 3, 3, 3, 3, 3, 3, 3, 3, 3, 3, 3, 3, 3, 3, 3, 3, 3, 3, 3, 3, 3, 3, 3, 3, 3, 3, 3, 3, 3, 3, 3, 3, 3, 3, 3, 3, 3, 3, 3, 3, 3, 3, 3, 3, 3, 3, 3, 3, 3, 3, 3, 3, 3, 3, 3, 3, 3, 3, 3, 3, 3, 3, 3, 3, 3, 3, 3, 3, 3, 3, 3, 3, 3, 3, 3, 3, 3, 3, 3, 3, 3, 3, 3, 3, 3, 3, 3, 3, 3, 3, 3, 3, 3, 3, 3, 3, 3, 3, 3, 3, 3, 3, 3, 3, 3, 3, 3, 3, 3, 3, 3, 3, 3, 3, 3, 3, 3, 3, 3, 3, 3, 3, 3, 3, 3, 3, 3, 3, 3, 3, 3, 3, 3, 3, 3, 3, 3, 3, 3, 3, 3, 3, 3, 3, 3, 3, 3, 3, 3, 3, 3, 3, 3, 3, 3, 3, 3, 3, 3, 3, 3, 3, 3, 3, 3, 3, 3, 3, 3, 3, 3, 3, 3, 3, 3, 3, 3, 3, 3, 3, 3, 3, 3, 3, 3, 3, 3, 3, 3, 3, 3, 3, 3, 3, 3, 3, 3, 3, 3, 3, 3, 3, 3, 3, 3, 3, 3, 3, 3, 3, 3, 3, 3, 3, 3, 3, 3, 3, 3, 3, 3, 3, 3, 3, 3, 3, 3, 3, 3, 3, 3, 3, 3, 3, 3, 3, 3, 3, 3, 3, 3, 3, 3, 3, 3, 3, 3, 3, 3, 3, 3, 3, 3, 3, 3, 3, 3, 3, 3, 3, 3, 3, 3, 3, 3, 3, 3, 3, 3, 3, 3, 3, 3, 3, 3, 3, 3, 3, 3, 3, 3, 3, 3, 3, 3, 3, 3, 3, 3, 3, 3, 3, 3, 3, 3, 3, 3, 3, 3, 3, 3, 3, 3, 3, 3, 3, 3, 3, 3, 3, 3, 3, 3, 3, 3, 3, 3, 3, 3, 3, 3, 3, 3, 3, 3, 3, 3, 3, 3, 3, 3, 3, 3, 3, 3, 3, 3, 3, 3, 3, 3, 3, 3, 3, 3, 3, 3, 3, 3, 3, 3, 3, 3, 3, 3, 3, 3, 3, 3, 3, 3, 3, 3, 3, 3, 3, 3, 3, 3, 3, 3, 3, 3, 3, 3, 3, 3, 3, 3, 3, 3, 3, 3, 3, 3, 3, 3, 3, 3, 3, 3, 3, 3, 3, 3, 3, 3, 3, 3, 3, 3, 3, 3, 3, 3, 3, 3, 3, 3, 3, 3, 3, 3, 3, 3, 3, 3, 3, 3, 3, 3, 3, 3, 3, 3, 3, 3, 3, 3, 3, 3, 3, 3, 3, 3, 3, 3, 3, 3, 3, 3, 3, 3, 3, 3, 3, 3, 3, 3, 3, 3, 3, 3, 3, 3, 3, 3, 3, 3, 3, 3, 3, 3, 3, 3, 3, 3, 3, 3, 3, 3, 3, 3, 3, 3, 3, 3, 3, 3, 3, 3, 3, 3, 3, 3, 3, 3, 3, 3, 3, 3, 3, 3, 3, 3, 3, 3, 3, 3, 3, 3, 3, 3, 3, 3, 3, 3, 3, 3, 3, 3, 3, 3, 3, 3, 3, 3, 3, 3, 3, 3, 3, 3, 3, 3, 3, 3, 3, 3, 3, 3, 3, 3, 3, 3, 3, 3, 3, 3, 3, 3, 3, 3, 3, 3, 3, 3, 3, 3, 3, 3, 3, 3, 3, 3, 3, 3, 3, 3, 3, 3, 3, 3, 3, 3, 3, 3, 3, 3, 3, 3, 3, 3, 3, 3, 3, 3, 3, 3, 3, 3, 3, 3, 3, 3, 3, 3, 3, 3, 3, 3, 3, 3, 3, 3, 3, 3, 3, 3, 3, 3, 3, 3, 3, 3, 3, 3, 3, 3, 3, 3, 3, 3, 3, 3, 3, 3, 3, 3, 3, 3, 3, 3, 3, 3, 3, 3, 3, 3, 3, 3, 3, 3, 3, 3, 3, 3, 3, 3, 3, 3, 3, 3, 3, 3, 3, 3, 3, 3, 3, 3, 3, 3, 3, 3, 3, 3, 3, 3, 3, 3, 3, 3, 3, 3, 3, 3, 3, 3, 3, 3, 3, 3, 3, 3, 3, 3, 3, 3, 3, 3, 3, 3, 3, 3, 3, 3, 3, 3, 3, 3, 3, 3, 3, 3, 3, 3, 3, 3, 3, 3, 3, 3, 3, 3, 3, 3, 3, 3, 3, 3, 3, 3, 3, 3, 3, 3, 3, 3, 4, 4, 4, 4, 4, 4, 4, 4, 4, 4, 4, 4, 4, 4, 4, 4, 4, 4, 4, 4, 4, 4, 4, 4, 4, 4, 4, 4, 4, 4, 4, 4, 4, 4, 4, 4, 4, 4, 4, 4, 4, 4, 4, 4, 4, 4, 4, 4, 4, 4, 4, 4, 4, 4, 4, 4, 4, 4, 4, 4, 4, 4, 4, 4, 4, 4, 4, 4, 4, 4, 4, 4, 4, 4, 4, 4, 4, 4, 4, 4, 4, 4, 4, 4, 4, 4, 4, 4, 4, 4, 4, 4, 4, 4, 4, 4, 4, 4, 4, 4, 4, 4, 4, 4, 4, 4, 4, 4, 4, 4, 4, 4, 4, 4, 4, 4, 4, 4, 4, 4, 4, 4, 4, 4, 4, 4, 4, 4, 4, 4, 4, 4, 4, 4, 4, 4, 4, 4, 4, 4, 4, 4, 4, 4, 4, 4, 4, 4, 4, 4, 4, 4, 4, 4, 4, 4, 4, 4, 4, 4, 4, 4, 4, 4, 4, 4, 4, 4, 4, 4, 4, 4, 4, 4, 4, 4, 4, 4, 4, 4, 4, 4, 4, 4, 4, 4, 4, 4, 4, 4, 4, 4, 4, 4, 4, 4, 4, 4, 4, 4, 4, 4, 4, 4, 4, 4, 4, 4, 4, 4, 4, 4, 4, 4, 4, 4, 4, 4, 4, 4, 4, 4, 4, 4, 4, 4, 4, 4, 4, 4, 4, 4, 4, 4, 4, 4, 4, 4, 4, 4, 4, 4, 4, 4, 4, 4, 4, 4, 4, 4, 4, 4, 4, 4, 4, 4, 4, 4, 4, 4, 4, 4, 4, 4, 4, 4, 4, 4, 4, 4, 4, 4, 4, 4, 4, 4, 4, 4, 4, 4, 4, 4, 4, 4, 4, 4, 4, 4, 4, 4, 4, 4, 4, 4, 4, 4, 4, 4, 4, 4, 4, 4, 4, 4, 4, 4, 4, 4, 4, 4, 4, 4, 4, 4, 4, 4, 4, 4, 4, 4, 4, 4, 4, 4, 4, 4, 4, 4, 4, 4, 4, 4, 4, 4, 4, 4, 4, 4, 4, 4, 4, 4, 4, 4, 4, 4, 4, 4, 4, 4, 4, 4, 4, 4, 4, 4, 4, 4, 4, 4, 4, 4, 4, 4, 4, 4, 4, 4, 4, 4, 4, 4, 4, 4, 4, 4, 4, 4, 4, 4, 4, 4, 4, 4, 4, 4, 4, 4, 4, 4, 4, 4, 4, 4, 4, 4, 4, 4, 4, 4, 4, 4, 4, 4, 4, 4, 4, 4, 4, 4, 4, 4, 4, 4, 4, 4, 4, 4, 4, 4, 4, 4, 4, 4, 4, 4, 4, 4, 4, 4, 4, 4, 4, 4, 4, 4, 4, 4, 4, 4, 4, 4, 4, 4, 4, 4, 4, 4, 4, 4, 4, 4, 4, 4, 4, 4, 4, 4, 4, 4, 4, 4, 4, 4, 4, 4, 4, 4, 4, 4, 4, 4, 4, 4, 4, 4, 4, 4, 4, 4, 4, 4, 4, 4, 4, 4, 4, 4, 4, 4, 4, 4, 4, 4, 4, 4, 4, 4, 4, 4, 4, 4, 4, 4, 4, 4, 4, 4, 4, 4, 4, 4, 4, 4, 4, 4, 4, 4, 4, 4, 4, 4, 4, 4, 4, 4, 4, 4, 4, 4, 4, 4, 4, 4, 4, 4, 4, 4, 4, 4, 4, 4, 4, 4, 4, 4, 4, 4, 4, 4, 4, 4, 4, 4, 4, 4, 4, 4, 4, 4, 4, 4, 4, 4, 4, 4, 4, 4, 4, 4, 4, 4, 4, 4, 4, 4, 4, 4, 4, 4, 4, 4, 4, 4, 4, 4, 4, 4, 4, 4, 4, 4, 4, 4, 4, 4, 4, 4, 4, 4, 4, 4, 4, 4, 4, 4, 4, 4, 4, 4, 4, 4, 4, 4, 4, 4, 4, 4, 4, 4, 4, 4, 4, 4, 4, 4, 4, 4, 4, 4, 4, 4, 4, 4, 4, 4, 4, 4, 4, 4, 4, 4, 4, 4, 4, 4, 4, 4, 4, 4, 4, 4, 4, 4, 4, 4, 4, 4, 4, 4, 4, 4, 4, 4, 4, 4, 4, 4, 4, 4, 4, 4, 4, 4, 4, 4, 4, 4, 4, 4, 4, 4, 4, 4, 4, 4, 4, 4, 4, 4, 4, 4, 4, 4, 4, 4, 4, 4, 4, 4, 4, 4, 4, 4, 4, 4, 4, 4, 4, 4, 4, 4, 4, 4, 4, 4, 4, 4, 4, 4, 4, 4, 4, 4, 4, 4, 4, 4, 4, 4, 4, 4, 4, 4, 4, 4, 4, 4, 4, 4, 4, 4, 4, 4, 4, 4, 4, 4, 4, 4, 4, 4, 4, 4, 4, 4, 4, 4, 4, 4, 4, 4, 4, 4, 4, 4, 4, 4, 4, 4, 4, 4, 4, 4, 4, 4, 4, 4, 4, 4, 4, 4, 4, 4, 4, 4, 4, 4, 4, 4, 4, 4, 4, 4, 4, 4, 4, 4, 4, 4, 4, 4, 4, 4, 4, 4, 4, 4, 4, 4, 4, 4, 4, 4, 4, 4, 4, 4, 4, 4, 4, 4, 4, 4, 4, 4, 4, 4, 4, 4, 4, 4, 4, 4, 4, 4, 4, 4, 4, 4, 4, 4, 4, 4, 4, 4, 4, 4, 4, 4, 4, 4, 4, 4, 4, 4, 4, 4, 4, 4, 4, 4, 4, 4, 4, 4, 4, 4, 4, 4, 4, 4, 4, 4, 4, 4, 4, 4, 4, 4, 4, 4, 4, 4, 4, 4, 4, 4, 4, 4, 4, 4, 4, 4, 4, 4, 4, 4, 4, 4, 4, 4, 4, 4, 4, 4, 4, 4, 4, 4, 4, 4, 4, 4, 4, 4, 4, 4, 4, 4, 4, 4, 4, 4, 4, 4, 4, 4, 4, 4, 4, 4, 4, 4, 4, 4, 4, 4, 4, 4, 4, 4, 4, 4, 4, 4, 4, 4, 4, 4, 4, 4, 4, 4, 4, 4, 4, 4, 4, 4, 4, 4, 4, 4, 4, 4, 4, 4, 4, 4, 4, 4, 4, 4, 4, 4, 4, 4, 4, 4, 4, 4, 4, 4]\n"
          ],
          "name": "stdout"
        }
      ]
    },
    {
      "cell_type": "code",
      "metadata": {
        "id": "0bUIjlj2si96",
        "colab": {
          "base_uri": "https://localhost:8080/"
        },
        "outputId": "44cac653-6ebb-4a4d-e4b0-afca517bdd3f"
      },
      "source": [
        "X = np.array(X)\n",
        "y = np.array(y)\n",
        "X.shape"
      ],
      "execution_count": 10,
      "outputs": [
        {
          "output_type": "execute_result",
          "data": {
            "text/plain": [
              "(4932, 224, 224, 3)"
            ]
          },
          "metadata": {
            "tags": []
          },
          "execution_count": 10
        }
      ]
    },
    {
      "cell_type": "code",
      "metadata": {
        "id": "bDf4Suu2sjVY",
        "colab": {
          "base_uri": "https://localhost:8080/"
        },
        "outputId": "d13bf604-4d4a-4768-80c1-2cb688210c16"
      },
      "source": [
        "from sklearn.model_selection import train_test_split\n",
        "X_train, X_test, y_train, y_test = train_test_split(X, y, random_state=0)\n",
        "X_train = X_train.astype('float32')\n",
        "X_test = X_test.astype('float32')\n",
        "X_test[0]"
      ],
      "execution_count": 11,
      "outputs": [
        {
          "output_type": "execute_result",
          "data": {
            "text/plain": [
              "array([[[252., 185., 159.],\n",
              "        [254., 191., 149.],\n",
              "        [253., 189., 160.],\n",
              "        ...,\n",
              "        [250., 194., 158.],\n",
              "        [249., 187., 148.],\n",
              "        [253., 194., 153.]],\n",
              "\n",
              "       [[252., 192., 148.],\n",
              "        [245., 197., 143.],\n",
              "        [222., 185., 149.],\n",
              "        ...,\n",
              "        [226., 183., 150.],\n",
              "        [249., 196., 154.],\n",
              "        [254., 194., 148.]],\n",
              "\n",
              "       [[253., 193., 158.],\n",
              "        [197., 160., 124.],\n",
              "        [129., 114., 106.],\n",
              "        ...,\n",
              "        [128., 114., 105.],\n",
              "        [195., 155., 129.],\n",
              "        [248., 190., 153.]],\n",
              "\n",
              "       ...,\n",
              "\n",
              "       [[252., 195., 153.],\n",
              "        [203., 171., 129.],\n",
              "        [151., 129., 115.],\n",
              "        ...,\n",
              "        [146., 126., 113.],\n",
              "        [204., 172., 132.],\n",
              "        [243., 191., 151.]],\n",
              "\n",
              "       [[255., 188., 151.],\n",
              "        [249., 197., 152.],\n",
              "        [239., 187., 160.],\n",
              "        ...,\n",
              "        [236., 189., 162.],\n",
              "        [247., 194., 149.],\n",
              "        [253., 190., 152.]],\n",
              "\n",
              "       [[254., 191., 152.],\n",
              "        [253., 191., 151.],\n",
              "        [253., 191., 152.],\n",
              "        ...,\n",
              "        [254., 192., 152.],\n",
              "        [254., 192., 152.],\n",
              "        [253., 191., 151.]]], dtype=float32)"
            ]
          },
          "metadata": {
            "tags": []
          },
          "execution_count": 11
        }
      ]
    },
    {
      "cell_type": "code",
      "metadata": {
        "id": "X9g3LeiqIxpS",
        "colab": {
          "base_uri": "https://localhost:8080/"
        },
        "outputId": "eab74fb1-4006-45b8-eda9-191737dda51b"
      },
      "source": [
        "len(X_train)"
      ],
      "execution_count": 12,
      "outputs": [
        {
          "output_type": "execute_result",
          "data": {
            "text/plain": [
              "3699"
            ]
          },
          "metadata": {
            "tags": []
          },
          "execution_count": 12
        }
      ]
    },
    {
      "cell_type": "code",
      "metadata": {
        "id": "GK8LXytJJtka",
        "colab": {
          "base_uri": "https://localhost:8080/"
        },
        "outputId": "8068d8fa-2960-49a4-e566-7336db846839"
      },
      "source": [
        "len(X_test)"
      ],
      "execution_count": 13,
      "outputs": [
        {
          "output_type": "execute_result",
          "data": {
            "text/plain": [
              "1233"
            ]
          },
          "metadata": {
            "tags": []
          },
          "execution_count": 13
        }
      ]
    },
    {
      "cell_type": "code",
      "metadata": {
        "id": "IB6rVmTDsqqw"
      },
      "source": [
        "X_train_scaled = X_train / 255\n",
        "X_test_scaled = X_test / 255"
      ],
      "execution_count": 14,
      "outputs": []
    },
    {
      "cell_type": "code",
      "metadata": {
        "id": "38iOKw01mLVW",
        "colab": {
          "base_uri": "https://localhost:8080/"
        },
        "outputId": "19786313-f1f3-4229-ddc7-a347efc46232"
      },
      "source": [
        "y_train=to_categorical(y_train)\n",
        "y_test=to_categorical(y_test)\n",
        "y_train.shape"
      ],
      "execution_count": 15,
      "outputs": [
        {
          "output_type": "execute_result",
          "data": {
            "text/plain": [
              "(3699, 5)"
            ]
          },
          "metadata": {
            "tags": []
          },
          "execution_count": 15
        }
      ]
    },
    {
      "cell_type": "code",
      "metadata": {
        "colab": {
          "base_uri": "https://localhost:8080/"
        },
        "id": "FG1UESKA_td5",
        "outputId": "05340a45-c615-44be-bd2a-f445b90c236c"
      },
      "source": [
        "y_train.shape"
      ],
      "execution_count": 16,
      "outputs": [
        {
          "output_type": "execute_result",
          "data": {
            "text/plain": [
              "(3699, 5)"
            ]
          },
          "metadata": {
            "tags": []
          },
          "execution_count": 16
        }
      ]
    },
    {
      "cell_type": "code",
      "metadata": {
        "id": "J0oe5Wdbswwh",
        "colab": {
          "base_uri": "https://localhost:8080/",
          "height": 286
        },
        "outputId": "51087c8a-0b1c-413f-993d-e5ae5ada9c0b"
      },
      "source": [
        "plt.imshow(X[100])\n",
        "print(y[100])"
      ],
      "execution_count": 17,
      "outputs": [
        {
          "output_type": "stream",
          "text": [
            "0\n"
          ],
          "name": "stdout"
        },
        {
          "output_type": "display_data",
          "data": {
            "text/plain": [
              "<Figure size 432x288 with 1 Axes>"
            ],
            "image/png": "[encoded data removed]"
          },
          "metadata": {
            "tags": [],
            "needs_background": "light"
          }
        }
      ]
    },
    {
      "cell_type": "code",
      "metadata": {
        "id": "E-ZF5PGhjxPg",
        "colab": {
          "base_uri": "https://localhost:8080/"
        },
        "outputId": "4c44931a-72f4-495f-ef36-0765b922bfbd"
      },
      "source": [
        "mobilenet = keras.applications.MobileNetV2(input_shape=(224, 224, 3),\n",
        "                                                   include_top=False,\n",
        "                                                   weights='imagenet')\n",
        "mobilenet.trainable = True\n",
        "for layer in mobilenet.layers[:130]:\n",
        "  layer.trainable = False\n",
        "len(mobilenet.layers)"
      ],
      "execution_count": 106,
      "outputs": [
        {
          "output_type": "execute_result",
          "data": {
            "text/plain": [
              "154"
            ]
          },
          "metadata": {
            "tags": []
          },
          "execution_count": 106
        }
      ]
    },
    {
      "cell_type": "code",
      "metadata": {
        "id": "VdVUXPetA0yA"
      },
      "source": [
        "import os\n",
        "import tempfile\n",
        "\n",
        "def add_regularization(model, regularizer=tf.keras.regularizers.l2(0.001)):\n",
        "\n",
        "    if not isinstance(regularizer, tf.keras.regularizers.Regularizer):\n",
        "      print(\"Regularizer must be a subclass of tf.keras.regularizers.Regularizer\")\n",
        "      return model\n",
        "\n",
        "    for layer in model.layers:\n",
        "        for attr in ['kernel_regularizer']:\n",
        "            if hasattr(layer, attr):\n",
        "              setattr(layer, attr, regularizer)\n",
        "\n",
        "    # When we change the layers attributes, the change only happens in the model config file\n",
        "    model_json = model.to_json()\n",
        "\n",
        "    # Save the weights before reloading the model.\n",
        "    tmp_weights_path = os.path.join(tempfile.gettempdir(), 'tmp_weights.h5')\n",
        "    model.save_weights(tmp_weights_path)\n",
        "\n",
        "    # load the model from the config\n",
        "    model = tf.keras.models.model_from_json(model_json)\n",
        "    \n",
        "    # Reload the model weights\n",
        "    model.load_weights(tmp_weights_path, by_name=True)\n",
        "    return model"
      ],
      "execution_count": 107,
      "outputs": []
    },
    {
      "cell_type": "code",
      "metadata": {
        "colab": {
          "base_uri": "https://localhost:8080/"
        },
        "id": "Wn9eudlRBYjC",
        "outputId": "4f86b03b-a10b-4cdd-c481-515f95ddfb3e"
      },
      "source": [
        "add_regularization(mobilenet)"
      ],
      "execution_count": 108,
      "outputs": [
        {
          "output_type": "stream",
          "text": [
            "C:\\Users\\abhay\\anaconda3\\lib\\site-packages\\tensorflow\\python\\keras\\utils\\generic_utils.py:494: CustomMaskWarning: Custom mask layers require a config and must override get_config. When loading, the custom mask layer must be passed to the custom_objects argument.\n",
            "  warnings.warn('Custom mask layers require a config and must override '\n"
          ],
          "name": "stderr"
        },
        {
          "output_type": "execute_result",
          "data": {
            "text/plain": [
              "<tensorflow.python.keras.engine.functional.Functional at 0x1c1adbe8ca0>"
            ]
          },
          "metadata": {
            "tags": []
          },
          "execution_count": 108
        }
      ]
    },
    {
      "cell_type": "code",
      "metadata": {
        "id": "YxC_2fGf9K1G",
        "colab": {
          "base_uri": "https://localhost:8080/"
        },
        "outputId": "fd4ba708-d651-4c04-f776-c857e8904486"
      },
      "source": [
        "inputs = keras.Input(shape=(224, 224, 3))\n",
        "x = mobilenet(inputs, training=False)\n",
        "x=tf.keras.layers.Dropout(0.33)(x)\n",
        "x=tf.keras.layers.Dense(32,activation=('relu'))(x)\n",
        "x=tf.keras.layers.Dense(32,activation=('relu'))(x)\n",
        "x=tf.keras.layers.Dropout(0.3)(x)\n",
        "x = keras.layers.GlobalAveragePooling2D()(x)\n",
        "outputs = keras.layers.Dense(5)(x)\n",
        "model = keras.Model(inputs, outputs)\n",
        "model.summary()"
      ],
      "execution_count": 109,
      "outputs": [
        {
          "output_type": "stream",
          "text": [
            "Model: \"model_14\"\n",
            "_________________________________________________________________\n",
            "Layer (type)                 Output Shape              Param #   \n",
            "=================================================================\n",
            "input_32 (InputLayer)        [(None, 224, 224, 3)]     0         \n",
            "_________________________________________________________________\n",
            "mobilenetv2_1.00_224 (Functi (None, 7, 7, 1280)        2257984   \n",
            "_________________________________________________________________\n",
            "dropout_26 (Dropout)         (None, 7, 7, 1280)        0         \n",
            "_________________________________________________________________\n",
            "dense_34 (Dense)             (None, 7, 7, 32)          40992     \n",
            "_________________________________________________________________\n",
            "dense_35 (Dense)             (None, 7, 7, 32)          1056      \n",
            "_________________________________________________________________\n",
            "dropout_27 (Dropout)         (None, 7, 7, 32)          0         \n",
            "_________________________________________________________________\n",
            "global_average_pooling2d_15  (None, 32)                0         \n",
            "_________________________________________________________________\n",
            "dense_36 (Dense)             (None, 5)                 165       \n",
            "=================================================================\n",
            "Total params: 2,300,197\n",
            "Trainable params: 1,402,213\n",
            "Non-trainable params: 897,984\n",
            "_________________________________________________________________\n"
          ],
          "name": "stdout"
        }
      ]
    },
    {
      "cell_type": "code",
      "metadata": {
        "id": "o7fYTSC59NmO"
      },
      "source": [
        " model.compile(\n",
        "  optimizer=tf.keras.optimizers.Adam(learning_rate=0.000001),\n",
        "  loss=tf.keras.losses.CategoricalCrossentropy(from_logits=True),\n",
        "  metrics=['accuracy'])"
      ],
      "execution_count": 110,
      "outputs": []
    },
    {
      "cell_type": "code",
      "metadata": {
        "colab": {
          "base_uri": "https://localhost:8080/"
        },
        "id": "FSgrsLKYzyfu",
        "outputId": "f7257d43-6d53-4ec8-ee0d-e3ca1923edeb"
      },
      "source": [
        "H = model.fit(X_train_scaled,y_train,validation_data=(X_test_scaled,y_test), epochs=100,batch_size=50)"
      ],
      "execution_count": 111,
      "outputs": [
        {
          "output_type": "stream",
          "text": [
            "Epoch 1/100\n",
            "74/74 [==============================] - 17s 163ms/step - loss: 1.6586 - accuracy: 0.2766 - val_loss: 1.5810 - val_accuracy: 0.3228\n",
            "Epoch 2/100\n",
            "74/74 [==============================] - 11s 149ms/step - loss: 1.5598 - accuracy: 0.3474 - val_loss: 1.5101 - val_accuracy: 0.3820\n",
            "Epoch 3/100\n",
            "74/74 [==============================] - 11s 148ms/step - loss: 1.4866 - accuracy: 0.4109 - val_loss: 1.4321 - val_accuracy: 0.4688\n",
            "Epoch 4/100\n",
            "74/74 [==============================] - 11s 149ms/step - loss: 1.4043 - accuracy: 0.4709 - val_loss: 1.3396 - val_accuracy: 0.5499\n",
            "Epoch 5/100\n",
            "74/74 [==============================] - 11s 149ms/step - loss: 1.3067 - accuracy: 0.5410 - val_loss: 1.2329 - val_accuracy: 0.5969\n",
            "Epoch 6/100\n",
            "74/74 [==============================] - 11s 149ms/step - loss: 1.2046 - accuracy: 0.5904 - val_loss: 1.1302 - val_accuracy: 0.6285\n",
            "Epoch 7/100\n",
            "74/74 [==============================] - 11s 149ms/step - loss: 1.1051 - accuracy: 0.6337 - val_loss: 1.0373 - val_accuracy: 0.6683\n",
            "Epoch 8/100\n",
            "74/74 [==============================] - 11s 150ms/step - loss: 1.0238 - accuracy: 0.6577 - val_loss: 0.9633 - val_accuracy: 0.6853\n",
            "Epoch 9/100\n",
            "74/74 [==============================] - 11s 150ms/step - loss: 0.9599 - accuracy: 0.6848 - val_loss: 0.8977 - val_accuracy: 0.7218\n",
            "Epoch 10/100\n",
            "74/74 [==============================] - 11s 149ms/step - loss: 0.9002 - accuracy: 0.7086 - val_loss: 0.8549 - val_accuracy: 0.7299\n",
            "Epoch 11/100\n",
            "74/74 [==============================] - 11s 149ms/step - loss: 0.8508 - accuracy: 0.7172 - val_loss: 0.8135 - val_accuracy: 0.7356\n",
            "Epoch 12/100\n",
            "74/74 [==============================] - 11s 150ms/step - loss: 0.8052 - accuracy: 0.7429 - val_loss: 0.7762 - val_accuracy: 0.7510\n",
            "Epoch 13/100\n",
            "74/74 [==============================] - 11s 150ms/step - loss: 0.7729 - accuracy: 0.7478 - val_loss: 0.7397 - val_accuracy: 0.7640\n",
            "Epoch 14/100\n",
            "74/74 [==============================] - 11s 149ms/step - loss: 0.7409 - accuracy: 0.7629 - val_loss: 0.7175 - val_accuracy: 0.7745\n",
            "Epoch 15/100\n",
            "74/74 [==============================] - 11s 149ms/step - loss: 0.7074 - accuracy: 0.7726 - val_loss: 0.6904 - val_accuracy: 0.7770\n",
            "Epoch 16/100\n",
            "74/74 [==============================] - 11s 150ms/step - loss: 0.6905 - accuracy: 0.7721 - val_loss: 0.6742 - val_accuracy: 0.7875\n",
            "Epoch 17/100\n",
            "74/74 [==============================] - 11s 150ms/step - loss: 0.6594 - accuracy: 0.7805 - val_loss: 0.6525 - val_accuracy: 0.7916\n",
            "Epoch 18/100\n",
            "74/74 [==============================] - 11s 150ms/step - loss: 0.6400 - accuracy: 0.7929 - val_loss: 0.6415 - val_accuracy: 0.7891\n",
            "Epoch 19/100\n",
            "74/74 [==============================] - 11s 150ms/step - loss: 0.6198 - accuracy: 0.8032 - val_loss: 0.6233 - val_accuracy: 0.7972\n",
            "Epoch 20/100\n",
            "74/74 [==============================] - 11s 150ms/step - loss: 0.6032 - accuracy: 0.8062 - val_loss: 0.6026 - val_accuracy: 0.8062\n",
            "Epoch 21/100\n",
            "74/74 [==============================] - 11s 149ms/step - loss: 0.5887 - accuracy: 0.8062 - val_loss: 0.5951 - val_accuracy: 0.8054\n",
            "Epoch 22/100\n",
            "74/74 [==============================] - 11s 149ms/step - loss: 0.5725 - accuracy: 0.8143 - val_loss: 0.5839 - val_accuracy: 0.8078\n",
            "Epoch 23/100\n",
            "74/74 [==============================] - 11s 149ms/step - loss: 0.5514 - accuracy: 0.8191 - val_loss: 0.5739 - val_accuracy: 0.8127\n",
            "Epoch 24/100\n",
            "74/74 [==============================] - 11s 149ms/step - loss: 0.5375 - accuracy: 0.8270 - val_loss: 0.5716 - val_accuracy: 0.8110\n",
            "Epoch 25/100\n",
            "74/74 [==============================] - 11s 149ms/step - loss: 0.5355 - accuracy: 0.8194 - val_loss: 0.5577 - val_accuracy: 0.8208\n",
            "Epoch 26/100\n",
            "74/74 [==============================] - 11s 149ms/step - loss: 0.5225 - accuracy: 0.8278 - val_loss: 0.5403 - val_accuracy: 0.8224\n",
            "Epoch 27/100\n",
            "74/74 [==============================] - 11s 149ms/step - loss: 0.5017 - accuracy: 0.8378 - val_loss: 0.5370 - val_accuracy: 0.8273\n",
            "Epoch 28/100\n",
            "74/74 [==============================] - 11s 149ms/step - loss: 0.4952 - accuracy: 0.8389 - val_loss: 0.5344 - val_accuracy: 0.8224\n",
            "Epoch 29/100\n",
            "74/74 [==============================] - 11s 149ms/step - loss: 0.4879 - accuracy: 0.8386 - val_loss: 0.5165 - val_accuracy: 0.8321\n",
            "Epoch 30/100\n",
            "74/74 [==============================] - 11s 149ms/step - loss: 0.4714 - accuracy: 0.8491 - val_loss: 0.5215 - val_accuracy: 0.8248\n",
            "Epoch 31/100\n",
            "74/74 [==============================] - 11s 149ms/step - loss: 0.4729 - accuracy: 0.8446 - val_loss: 0.5036 - val_accuracy: 0.8313\n",
            "Epoch 32/100\n",
            "74/74 [==============================] - 11s 150ms/step - loss: 0.4517 - accuracy: 0.8513 - val_loss: 0.5013 - val_accuracy: 0.8313\n",
            "Epoch 33/100\n",
            "74/74 [==============================] - 11s 150ms/step - loss: 0.4518 - accuracy: 0.8540 - val_loss: 0.4970 - val_accuracy: 0.8337\n",
            "Epoch 34/100\n",
            "74/74 [==============================] - 11s 150ms/step - loss: 0.4396 - accuracy: 0.8610 - val_loss: 0.4898 - val_accuracy: 0.8337\n",
            "Epoch 35/100\n",
            "74/74 [==============================] - 11s 150ms/step - loss: 0.4366 - accuracy: 0.8597 - val_loss: 0.4883 - val_accuracy: 0.8362\n",
            "Epoch 36/100\n",
            "74/74 [==============================] - 11s 150ms/step - loss: 0.4272 - accuracy: 0.8624 - val_loss: 0.4744 - val_accuracy: 0.8402\n",
            "Epoch 37/100\n",
            "74/74 [==============================] - 11s 150ms/step - loss: 0.4135 - accuracy: 0.8689 - val_loss: 0.4732 - val_accuracy: 0.8427\n",
            "Epoch 38/100\n",
            "74/74 [==============================] - 11s 150ms/step - loss: 0.4113 - accuracy: 0.8694 - val_loss: 0.4663 - val_accuracy: 0.8427\n",
            "Epoch 39/100\n",
            "74/74 [==============================] - 11s 150ms/step - loss: 0.4040 - accuracy: 0.8673 - val_loss: 0.4761 - val_accuracy: 0.8370\n",
            "Epoch 40/100\n",
            "74/74 [==============================] - 11s 149ms/step - loss: 0.3978 - accuracy: 0.8729 - val_loss: 0.4658 - val_accuracy: 0.8427\n",
            "Epoch 41/100\n",
            "74/74 [==============================] - 11s 150ms/step - loss: 0.3867 - accuracy: 0.8710 - val_loss: 0.4548 - val_accuracy: 0.8483\n",
            "Epoch 42/100\n",
            "74/74 [==============================] - 11s 150ms/step - loss: 0.3870 - accuracy: 0.8729 - val_loss: 0.4570 - val_accuracy: 0.8475\n",
            "Epoch 43/100\n",
            "74/74 [==============================] - 11s 150ms/step - loss: 0.3754 - accuracy: 0.8743 - val_loss: 0.4551 - val_accuracy: 0.8491\n",
            "Epoch 44/100\n",
            "74/74 [==============================] - 11s 150ms/step - loss: 0.3750 - accuracy: 0.8773 - val_loss: 0.4554 - val_accuracy: 0.8500\n",
            "Epoch 45/100\n",
            "74/74 [==============================] - 11s 150ms/step - loss: 0.3725 - accuracy: 0.8781 - val_loss: 0.4543 - val_accuracy: 0.8508\n",
            "Epoch 46/100\n",
            "74/74 [==============================] - 11s 150ms/step - loss: 0.3615 - accuracy: 0.8854 - val_loss: 0.4435 - val_accuracy: 0.8516\n",
            "Epoch 47/100\n",
            "74/74 [==============================] - 11s 150ms/step - loss: 0.3565 - accuracy: 0.8883 - val_loss: 0.4439 - val_accuracy: 0.8516\n",
            "Epoch 48/100\n",
            "74/74 [==============================] - 11s 150ms/step - loss: 0.3553 - accuracy: 0.8848 - val_loss: 0.4323 - val_accuracy: 0.8540\n",
            "Epoch 49/100\n",
            "74/74 [==============================] - 11s 150ms/step - loss: 0.3440 - accuracy: 0.8919 - val_loss: 0.4313 - val_accuracy: 0.8532\n",
            "Epoch 50/100\n",
            "74/74 [==============================] - 11s 150ms/step - loss: 0.3419 - accuracy: 0.8883 - val_loss: 0.4374 - val_accuracy: 0.8532\n",
            "Epoch 51/100\n",
            "74/74 [==============================] - 11s 150ms/step - loss: 0.3413 - accuracy: 0.8932 - val_loss: 0.4310 - val_accuracy: 0.8540\n",
            "Epoch 52/100\n",
            "74/74 [==============================] - 11s 150ms/step - loss: 0.3361 - accuracy: 0.8881 - val_loss: 0.4232 - val_accuracy: 0.8532\n",
            "Epoch 53/100\n",
            "74/74 [==============================] - 11s 150ms/step - loss: 0.3217 - accuracy: 0.9002 - val_loss: 0.4301 - val_accuracy: 0.8548\n",
            "Epoch 54/100\n",
            "74/74 [==============================] - 11s 150ms/step - loss: 0.3194 - accuracy: 0.8997 - val_loss: 0.4191 - val_accuracy: 0.8581\n",
            "Epoch 55/100\n",
            "74/74 [==============================] - 11s 150ms/step - loss: 0.3196 - accuracy: 0.8984 - val_loss: 0.4183 - val_accuracy: 0.8589\n",
            "Epoch 56/100\n",
            "74/74 [==============================] - 11s 151ms/step - loss: 0.3146 - accuracy: 0.8938 - val_loss: 0.4157 - val_accuracy: 0.8573\n",
            "Epoch 57/100\n",
            "74/74 [==============================] - 11s 150ms/step - loss: 0.3153 - accuracy: 0.8994 - val_loss: 0.4139 - val_accuracy: 0.8564\n",
            "Epoch 58/100\n",
            "74/74 [==============================] - 11s 150ms/step - loss: 0.3024 - accuracy: 0.9054 - val_loss: 0.4101 - val_accuracy: 0.8597\n",
            "Epoch 59/100\n",
            "74/74 [==============================] - 11s 150ms/step - loss: 0.3051 - accuracy: 0.8984 - val_loss: 0.4103 - val_accuracy: 0.8573\n",
            "Epoch 60/100\n",
            "74/74 [==============================] - 11s 150ms/step - loss: 0.3023 - accuracy: 0.9040 - val_loss: 0.4174 - val_accuracy: 0.8589\n",
            "Epoch 61/100\n",
            "74/74 [==============================] - 11s 150ms/step - loss: 0.2947 - accuracy: 0.9062 - val_loss: 0.4149 - val_accuracy: 0.8573\n",
            "Epoch 62/100\n",
            "74/74 [==============================] - 11s 150ms/step - loss: 0.2979 - accuracy: 0.9029 - val_loss: 0.4115 - val_accuracy: 0.8573\n",
            "Epoch 63/100\n",
            "74/74 [==============================] - 11s 150ms/step - loss: 0.2918 - accuracy: 0.9035 - val_loss: 0.4028 - val_accuracy: 0.8605\n",
            "Epoch 64/100\n",
            "74/74 [==============================] - 11s 150ms/step - loss: 0.2866 - accuracy: 0.9113 - val_loss: 0.4064 - val_accuracy: 0.8573\n",
            "Epoch 65/100\n",
            "74/74 [==============================] - 11s 150ms/step - loss: 0.2855 - accuracy: 0.9105 - val_loss: 0.4032 - val_accuracy: 0.8597\n",
            "Epoch 66/100\n",
            "74/74 [==============================] - 11s 150ms/step - loss: 0.2775 - accuracy: 0.9162 - val_loss: 0.3925 - val_accuracy: 0.8621\n",
            "Epoch 67/100\n",
            "74/74 [==============================] - 11s 150ms/step - loss: 0.2765 - accuracy: 0.9135 - val_loss: 0.3946 - val_accuracy: 0.8605\n",
            "Epoch 68/100\n",
            "74/74 [==============================] - 11s 150ms/step - loss: 0.2784 - accuracy: 0.9119 - val_loss: 0.3975 - val_accuracy: 0.8597\n",
            "Epoch 69/100\n",
            "74/74 [==============================] - 11s 150ms/step - loss: 0.2722 - accuracy: 0.9189 - val_loss: 0.4071 - val_accuracy: 0.8613\n",
            "Epoch 70/100\n",
            "74/74 [==============================] - 11s 150ms/step - loss: 0.2662 - accuracy: 0.9135 - val_loss: 0.3897 - val_accuracy: 0.8613\n",
            "Epoch 71/100\n",
            "74/74 [==============================] - 11s 150ms/step - loss: 0.2646 - accuracy: 0.9173 - val_loss: 0.3958 - val_accuracy: 0.8605\n",
            "Epoch 72/100\n",
            "74/74 [==============================] - 11s 150ms/step - loss: 0.2585 - accuracy: 0.9178 - val_loss: 0.3909 - val_accuracy: 0.8613\n",
            "Epoch 73/100\n",
            "74/74 [==============================] - 11s 150ms/step - loss: 0.2554 - accuracy: 0.9221 - val_loss: 0.3953 - val_accuracy: 0.8621\n",
            "Epoch 74/100\n",
            "74/74 [==============================] - 11s 150ms/step - loss: 0.2500 - accuracy: 0.9211 - val_loss: 0.3954 - val_accuracy: 0.8613\n",
            "Epoch 75/100\n",
            "74/74 [==============================] - 11s 150ms/step - loss: 0.2498 - accuracy: 0.9208 - val_loss: 0.3923 - val_accuracy: 0.8613\n",
            "Epoch 76/100\n",
            "74/74 [==============================] - 11s 150ms/step - loss: 0.2454 - accuracy: 0.9259 - val_loss: 0.3845 - val_accuracy: 0.8646\n",
            "Epoch 77/100\n",
            "74/74 [==============================] - 11s 150ms/step - loss: 0.2414 - accuracy: 0.9238 - val_loss: 0.3879 - val_accuracy: 0.8654\n",
            "Epoch 78/100\n",
            "74/74 [==============================] - 11s 150ms/step - loss: 0.2411 - accuracy: 0.9240 - val_loss: 0.3827 - val_accuracy: 0.8629\n",
            "Epoch 79/100\n",
            "74/74 [==============================] - 11s 150ms/step - loss: 0.2369 - accuracy: 0.9251 - val_loss: 0.3859 - val_accuracy: 0.8637\n",
            "Epoch 80/100\n",
            "74/74 [==============================] - 11s 150ms/step - loss: 0.2335 - accuracy: 0.9284 - val_loss: 0.3887 - val_accuracy: 0.8654\n",
            "Epoch 81/100\n",
            "74/74 [==============================] - 11s 150ms/step - loss: 0.2277 - accuracy: 0.9297 - val_loss: 0.3808 - val_accuracy: 0.8637\n",
            "Epoch 82/100\n",
            "74/74 [==============================] - 11s 150ms/step - loss: 0.2295 - accuracy: 0.9319 - val_loss: 0.3777 - val_accuracy: 0.8654\n",
            "Epoch 83/100\n",
            "74/74 [==============================] - 11s 150ms/step - loss: 0.2277 - accuracy: 0.9289 - val_loss: 0.3742 - val_accuracy: 0.8662\n",
            "Epoch 84/100\n",
            "74/74 [==============================] - 11s 150ms/step - loss: 0.2253 - accuracy: 0.9313 - val_loss: 0.3743 - val_accuracy: 0.8662\n",
            "Epoch 85/100\n",
            "74/74 [==============================] - 11s 150ms/step - loss: 0.2214 - accuracy: 0.9324 - val_loss: 0.3826 - val_accuracy: 0.8637\n",
            "Epoch 86/100\n",
            "74/74 [==============================] - 11s 150ms/step - loss: 0.2208 - accuracy: 0.9305 - val_loss: 0.3764 - val_accuracy: 0.8662\n",
            "Epoch 87/100\n",
            "74/74 [==============================] - 11s 150ms/step - loss: 0.2137 - accuracy: 0.9346 - val_loss: 0.3802 - val_accuracy: 0.8662\n",
            "Epoch 88/100\n",
            "74/74 [==============================] - 11s 150ms/step - loss: 0.2118 - accuracy: 0.9351 - val_loss: 0.3727 - val_accuracy: 0.8694\n",
            "Epoch 89/100\n",
            "74/74 [==============================] - 11s 150ms/step - loss: 0.2131 - accuracy: 0.9340 - val_loss: 0.3764 - val_accuracy: 0.8678\n",
            "Epoch 90/100\n",
            "74/74 [==============================] - 11s 150ms/step - loss: 0.2120 - accuracy: 0.9343 - val_loss: 0.3692 - val_accuracy: 0.8702\n",
            "Epoch 91/100\n",
            "74/74 [==============================] - 11s 150ms/step - loss: 0.2051 - accuracy: 0.9367 - val_loss: 0.3718 - val_accuracy: 0.8678\n",
            "Epoch 92/100\n",
            "74/74 [==============================] - 11s 150ms/step - loss: 0.2036 - accuracy: 0.9373 - val_loss: 0.3734 - val_accuracy: 0.8710\n",
            "Epoch 93/100\n",
            "74/74 [==============================] - 11s 150ms/step - loss: 0.2062 - accuracy: 0.9392 - val_loss: 0.3757 - val_accuracy: 0.8670\n",
            "Epoch 94/100\n",
            "74/74 [==============================] - 11s 150ms/step - loss: 0.2001 - accuracy: 0.9378 - val_loss: 0.3627 - val_accuracy: 0.8719\n",
            "Epoch 95/100\n",
            "74/74 [==============================] - 11s 150ms/step - loss: 0.1964 - accuracy: 0.9430 - val_loss: 0.3746 - val_accuracy: 0.8694\n",
            "Epoch 96/100\n",
            "74/74 [==============================] - 11s 150ms/step - loss: 0.1954 - accuracy: 0.9394 - val_loss: 0.3633 - val_accuracy: 0.8735\n",
            "Epoch 97/100\n",
            "74/74 [==============================] - 11s 150ms/step - loss: 0.1938 - accuracy: 0.9440 - val_loss: 0.3648 - val_accuracy: 0.8743\n",
            "Epoch 98/100\n",
            "74/74 [==============================] - 11s 150ms/step - loss: 0.1941 - accuracy: 0.9408 - val_loss: 0.3599 - val_accuracy: 0.8775\n",
            "Epoch 99/100\n",
            "74/74 [==============================] - 11s 150ms/step - loss: 0.1877 - accuracy: 0.9457 - val_loss: 0.3679 - val_accuracy: 0.8710\n",
            "Epoch 100/100\n",
            "74/74 [==============================] - 11s 149ms/step - loss: 0.1850 - accuracy: 0.9470 - val_loss: 0.3666 - val_accuracy: 0.8743\n"
          ],
          "name": "stdout"
        }
      ]
    },
    {
      "cell_type": "code",
      "metadata": {
        "id": "L466coWv9QKe",
        "colab": {
          "base_uri": "https://localhost:8080/"
        },
        "outputId": "5017c969-1210-4b96-dc32-0f471e4cf76c"
      },
      "source": [
        "model.evaluate(X_test_scaled,y_test)"
      ],
      "execution_count": 112,
      "outputs": [
        {
          "output_type": "stream",
          "text": [
            "39/39 [==============================] - 2s 61ms/step - loss: 0.3666 - accuracy: 0.8743\n"
          ],
          "name": "stdout"
        },
        {
          "output_type": "execute_result",
          "data": {
            "text/plain": [
              "[0.3666307032108307, 0.8742903470993042]"
            ]
          },
          "metadata": {
            "tags": []
          },
          "execution_count": 112
        }
      ]
    },
    {
      "cell_type": "code",
      "metadata": {
        "id": "q6XaX0Jl9SWG",
        "colab": {
          "base_uri": "https://localhost:8080/",
          "height": 298
        },
        "outputId": "7d381b51-5b6a-4cdd-8e6c-aa87379be623"
      },
      "source": [
        "from matplotlib import pyplot\n",
        "pyplot.title('Cross Entropy Loss')\n",
        "pyplot.plot(H.history['loss'], color='blue', label='train')\n",
        "pyplot.plot(H.history['val_loss'], color='orange', label='test')"
      ],
      "execution_count": 113,
      "outputs": [
        {
          "output_type": "execute_result",
          "data": {
            "text/plain": [
              "[<matplotlib.lines.Line2D at 0x1c1b70094f0>]"
            ]
          },
          "metadata": {
            "tags": []
          },
          "execution_count": 113
        },
        {
          "output_type": "display_data",
          "data": {
            "text/plain": [
              "<Figure size 432x288 with 1 Axes>"
            ],
            "image/png": "[encoded data removed]"
          },
          "metadata": {
            "tags": [],
            "needs_background": "light"
          }
        }
      ]
    },
    {
      "cell_type": "code",
      "metadata": {
        "id": "B1t6Dof8KtKa"
      },
      "source": [
        ""
      ],
      "execution_count": 23,
      "outputs": []
    },
    {
      "cell_type": "code",
      "metadata": {
        "id": "9FC3mzYiiUF5"
      },
      "source": [
        ""
      ],
      "execution_count": 23,
      "outputs": []
    }
  ]
}